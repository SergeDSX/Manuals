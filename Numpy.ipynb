{
 "cells": [
  {
   "cell_type": "markdown",
   "metadata": {},
   "source": [
    "# Библиотека Numpy"
   ]
  },
  {
   "cell_type": "code",
   "execution_count": 1,
   "metadata": {},
   "outputs": [],
   "source": [
    "import numpy as np"
   ]
  },
  {
   "cell_type": "markdown",
   "metadata": {},
   "source": [
    "### Создание и заполнение массивов\n",
    "\n",
    "**np.array** - создание нового массива. Обязательным аргументом на входе должен быть список или кортеж значений, которые передаются в массив. \n",
    "Из часто используемых аргументов ***dtype*** - устанавливает тип данных в массиве. \n",
    "Все элементы массива обязательно должны иметь одинаковый тип данных."
   ]
  },
  {
   "cell_type": "code",
   "execution_count": 4,
   "metadata": {},
   "outputs": [
    {
     "data": {
      "text/plain": [
       "array([1., 2., 3., 4., 5.], dtype=float32)"
      ]
     },
     "execution_count": 4,
     "metadata": {},
     "output_type": "execute_result"
    }
   ],
   "source": [
    "np.array([1,2,3,4,5], dtype = np.float32)"
   ]
  },
  {
   "cell_type": "markdown",
   "metadata": {},
   "source": [
    "Список поддерживаемых типов: "
   ]
  },
  {
   "cell_type": "code",
   "execution_count": 2,
   "metadata": {},
   "outputs": [
    {
     "data": {
      "text/plain": [
       "{'?': numpy.bool_,\n",
       " 0: numpy.bool_,\n",
       " 'byte': numpy.int8,\n",
       " 'b': numpy.int8,\n",
       " 1: numpy.int8,\n",
       " 'ubyte': numpy.uint8,\n",
       " 'B': numpy.uint8,\n",
       " 2: numpy.uint8,\n",
       " 'short': numpy.int16,\n",
       " 'h': numpy.int16,\n",
       " 3: numpy.int16,\n",
       " 'ushort': numpy.uint16,\n",
       " 'H': numpy.uint16,\n",
       " 4: numpy.uint16,\n",
       " 'i': numpy.intc,\n",
       " 5: numpy.intc,\n",
       " 'uint': numpy.uint32,\n",
       " 'I': numpy.uintc,\n",
       " 6: numpy.uintc,\n",
       " 'intp': numpy.int64,\n",
       " 'p': numpy.int64,\n",
       " 9: numpy.int64,\n",
       " 'uintp': numpy.uint64,\n",
       " 'P': numpy.uint64,\n",
       " 10: numpy.uint64,\n",
       " 'long': numpy.int32,\n",
       " 'l': numpy.int32,\n",
       " 7: numpy.int32,\n",
       " 'ulong': numpy.uint32,\n",
       " 'L': numpy.uint32,\n",
       " 8: numpy.uint32,\n",
       " 'longlong': numpy.int64,\n",
       " 'q': numpy.int64,\n",
       " 'ulonglong': numpy.uint64,\n",
       " 'Q': numpy.uint64,\n",
       " 'half': numpy.float16,\n",
       " 'e': numpy.float16,\n",
       " 23: numpy.float16,\n",
       " 'f': numpy.float32,\n",
       " 11: numpy.float32,\n",
       " 'double': numpy.float64,\n",
       " 'd': numpy.float64,\n",
       " 12: numpy.float64,\n",
       " 'longdouble': numpy.longdouble,\n",
       " 'g': numpy.longdouble,\n",
       " 13: numpy.longdouble,\n",
       " 'cfloat': numpy.complex128,\n",
       " 'F': numpy.complex64,\n",
       " 14: numpy.complex64,\n",
       " 'cdouble': numpy.complex128,\n",
       " 'D': numpy.complex128,\n",
       " 15: numpy.complex128,\n",
       " 'clongdouble': numpy.clongdouble,\n",
       " 'G': numpy.clongdouble,\n",
       " 16: numpy.clongdouble,\n",
       " 'O': numpy.object_,\n",
       " 17: numpy.object_,\n",
       " 'S': numpy.bytes_,\n",
       " 18: numpy.bytes_,\n",
       " 'unicode': numpy.str_,\n",
       " 'U': numpy.str_,\n",
       " 19: numpy.str_,\n",
       " 'void': numpy.void,\n",
       " 'V': numpy.void,\n",
       " 20: numpy.void,\n",
       " 'M': numpy.datetime64,\n",
       " 21: numpy.datetime64,\n",
       " 'm': numpy.timedelta64,\n",
       " 22: numpy.timedelta64,\n",
       " 'b1': numpy.bool_,\n",
       " 'bool8': numpy.bool_,\n",
       " 'i8': numpy.int64,\n",
       " 'int64': numpy.int64,\n",
       " 'u8': numpy.uint64,\n",
       " 'uint64': numpy.uint64,\n",
       " 'f2': numpy.float16,\n",
       " 'float16': numpy.float16,\n",
       " 'f4': numpy.float32,\n",
       " 'float32': numpy.float32,\n",
       " 'f8': numpy.float64,\n",
       " 'float64': numpy.float64,\n",
       " 'c8': numpy.complex64,\n",
       " 'complex64': numpy.complex64,\n",
       " 'c16': numpy.complex128,\n",
       " 'complex128': numpy.complex128,\n",
       " 'object0': numpy.object_,\n",
       " 'bytes0': numpy.bytes_,\n",
       " 'str0': numpy.str_,\n",
       " 'void0': numpy.void,\n",
       " 'M8': numpy.datetime64,\n",
       " 'datetime64': numpy.datetime64,\n",
       " 'm8': numpy.timedelta64,\n",
       " 'timedelta64': numpy.timedelta64,\n",
       " 'int32': numpy.int32,\n",
       " 'i4': numpy.int32,\n",
       " 'uint32': numpy.uint32,\n",
       " 'u4': numpy.uint32,\n",
       " 'int16': numpy.int16,\n",
       " 'i2': numpy.int16,\n",
       " 'uint16': numpy.uint16,\n",
       " 'u2': numpy.uint16,\n",
       " 'int8': numpy.int8,\n",
       " 'i1': numpy.int8,\n",
       " 'uint8': numpy.uint8,\n",
       " 'u1': numpy.uint8,\n",
       " 'complex_': numpy.complex128,\n",
       " 'single': numpy.float32,\n",
       " 'csingle': numpy.complex64,\n",
       " 'singlecomplex': numpy.complex64,\n",
       " 'float_': numpy.float64,\n",
       " 'intc': numpy.intc,\n",
       " 'uintc': numpy.uintc,\n",
       " 'int_': numpy.int32,\n",
       " 'longfloat': numpy.longdouble,\n",
       " 'clongfloat': numpy.clongdouble,\n",
       " 'longcomplex': numpy.clongdouble,\n",
       " 'bool_': numpy.bool_,\n",
       " 'bytes_': numpy.bytes_,\n",
       " 'string_': numpy.bytes_,\n",
       " 'str_': numpy.str_,\n",
       " 'unicode_': numpy.str_,\n",
       " 'object_': numpy.object_,\n",
       " 'int': numpy.int32,\n",
       " 'float': numpy.float64,\n",
       " 'complex': numpy.complex128,\n",
       " 'bool': numpy.bool_,\n",
       " 'object': numpy.object_,\n",
       " 'str': numpy.str_,\n",
       " 'bytes': numpy.bytes_,\n",
       " 'a': numpy.bytes_,\n",
       " 'int0': numpy.int64,\n",
       " 'uint0': numpy.uint64}"
      ]
     },
     "execution_count": 2,
     "metadata": {},
     "output_type": "execute_result"
    }
   ],
   "source": [
    "np.sctypeDict"
   ]
  },
  {
   "cell_type": "markdown",
   "metadata": {},
   "source": [
    "**np.array.ndim** - показывает количество измерений в массиве (осей). ndim = 1 для одномерного массива, 2 для двумерного и т.д."
   ]
  },
  {
   "cell_type": "code",
   "execution_count": 9,
   "metadata": {},
   "outputs": [
    {
     "name": "stdout",
     "output_type": "stream",
     "text": [
      "Массив: [1,2,3,4,5] - ndim = 1\n",
      "Массив: [[1,2,3,4,5], [1,2,3,4,5]] - ndim = 2\n",
      "Массив: [[[1,2,3,4,5], [1,2,3,4,5], [1,2,3,4,5]]] - ndim = 3\n"
     ]
    }
   ],
   "source": [
    "print(f'Массив: [1,2,3,4,5] - ndim = {np.array([1,2,3,4,5]).ndim}')\n",
    "print(f'Массив: [[1,2,3,4,5], [1,2,3,4,5]] - ndim = {np.array([[1,2,3,4,5], [1,2,3,4,5]]).ndim}')\n",
    "print(f'Массив: [[[1,2,3,4,5], [1,2,3,4,5], [1,2,3,4,5]]] - ndim = {np.array([[[1,2,3,4,5], [1,2,3,4,5], [1,2,3,4,5]]]).ndim}')"
   ]
  },
  {
   "cell_type": "markdown",
   "metadata": {},
   "source": [
    "**np.array.shape** - показывает количество элементов в каждом измерении (на каждой оси). "
   ]
  },
  {
   "cell_type": "code",
   "execution_count": 13,
   "metadata": {},
   "outputs": [
    {
     "name": "stdout",
     "output_type": "stream",
     "text": [
      "Массив: [1,2,3,4,5] - shape = (5,)\n",
      "Массив: [[1,2,3,4,5], [1,2,3,4,5]] - shape = (2, 5)\n",
      "Массив: [[[1,2,3,4,5], [1,2,3,4,5], [1,2,3,4,5]]] - shape = (1, 3, 5)\n"
     ]
    }
   ],
   "source": [
    "print(f'Массив: [1,2,3,4,5] - shape = {np.array([1,2,3,4,5]).shape}')\n",
    "print(f'Массив: [[1,2,3,4,5], [1,2,3,4,5]] - shape = {np.array([[1,2,3,4,5], [1,2,3,4,5]]).shape}')\n",
    "print(f'Массив: [[[1,2,3,4,5], [1,2,3,4,5], [1,2,3,4,5]]] - shape = {np.array([[[1,2,3,4,5], [1,2,3,4,5], [1,2,3,4,5]]]).shape}')"
   ]
  },
  {
   "cell_type": "markdown",
   "metadata": {},
   "source": [
    "**np.array.size** - количество элементов во всём массиве. "
   ]
  },
  {
   "cell_type": "code",
   "execution_count": 15,
   "metadata": {},
   "outputs": [
    {
     "name": "stdout",
     "output_type": "stream",
     "text": [
      "Массив: [1,2,3,4,5] - size = 5\n",
      "Массив: [[1,2,3,4,5], [1,2,3,4,5]] - size = 10\n",
      "Массив: [[[1,2,3,4,5], [1,2,3,4,5], [1,2,3,4,5]]] - size = 15\n"
     ]
    }
   ],
   "source": [
    "print(f'Массив: [1,2,3,4,5] - size = {np.array([1,2,3,4,5]).size}')\n",
    "print(f'Массив: [[1,2,3,4,5], [1,2,3,4,5]] - size = {np.array([[1,2,3,4,5], [1,2,3,4,5]]).size}')\n",
    "print(f'Массив: [[[1,2,3,4,5], [1,2,3,4,5], [1,2,3,4,5]]] - size = {np.array([[[1,2,3,4,5], [1,2,3,4,5], [1,2,3,4,5]]]).size}')"
   ]
  },
  {
   "cell_type": "markdown",
   "metadata": {},
   "source": [
    "Вектор (одномерный массив) и вектор-столбец или вектор-строка (двумерные массивы) **являются различными объектами в NumPy**, хотя математически задают один и тот же объект. В случае одномерного массива кортеж shape состоит из одного числа и имеет вид (n,), где n — длина вектора. В случае двумерных векторов в shape присутствует еще одна размерность, равная единице."
   ]
  },
  {
   "cell_type": "markdown",
   "metadata": {},
   "source": [
    "Свойство **shape** массива можно перезаписать, тогда представление исходного массива изменится. При этом важно, чтобы произведение значений в кортеже ***shape*** было равно произведению исходных значений. Это даст возможность не потерять данные. "
   ]
  },
  {
   "cell_type": "code",
   "execution_count": 33,
   "metadata": {},
   "outputs": [
    {
     "name": "stdout",
     "output_type": "stream",
     "text": [
      "Массив: [1,2,3,4,5], устанавливаем shape = (5,1), получаем:\n",
      "[[1]\n",
      " [2]\n",
      " [3]\n",
      " [4]\n",
      " [5]]\n",
      "----\n",
      "Массив: [1,2,3,4,5], устанавливаем shape = (1,5), получаем:\n",
      "[[1 2 3 4 5]]\n",
      "----\n",
      "Массив: [[1,2,3,4,5], [1,2,3,4,5]], устанавливаем shape = (5,2), получаем:\n",
      "[[1 2]\n",
      " [3 4]\n",
      " [5 1]\n",
      " [2 3]\n",
      " [4 5]]\n",
      "----\n",
      "Массив: [[1,2,3,4,5], [1,2,3,4,5]], устанавливаем shape = (5,2,1), получаем:\n",
      "[[[1]\n",
      "  [2]]\n",
      "\n",
      " [[3]\n",
      "  [4]]\n",
      "\n",
      " [[5]\n",
      "  [1]]\n",
      "\n",
      " [[2]\n",
      "  [3]]\n",
      "\n",
      " [[4]\n",
      "  [5]]]\n",
      "----\n",
      "Массив: [[[1,2,3,4,5], [1,2,3,4,5], [1,2,3,4,5]]], устанавливаем shape = -1, получаем:\n",
      "[1 2 3 4 5 1 2 3 4 5 1 2 3 4 5]\n"
     ]
    }
   ],
   "source": [
    "dim_1 = np.array([1,2,3,4,5])\n",
    "dim_2 = np.array([[1,2,3,4,5], [1,2,3,4,5]])\n",
    "dim_3 = np.array([[[1,2,3,4,5], [1,2,3,4,5], [1,2,3,4,5]]])\n",
    "\n",
    "dim_1.shape = (5,1)\n",
    "print('Массив: [1,2,3,4,5], устанавливаем shape = (5,1), получаем:')\n",
    "print(dim_1)\n",
    "\n",
    "print('----')\n",
    "print('Массив: [1,2,3,4,5], устанавливаем shape = (1,5), получаем:')\n",
    "dim_1.shape = (1,5)\n",
    "print(dim_1)\n",
    "\n",
    "print('----')\n",
    "print('Массив: [[1,2,3,4,5], [1,2,3,4,5]], устанавливаем shape = (5,2), получаем:')\n",
    "dim_2.shape = (5,2)\n",
    "print(dim_2)\n",
    "\n",
    "print('----')\n",
    "print('Массив: [[1,2,3,4,5], [1,2,3,4,5]], устанавливаем shape = (5,2,1), получаем:')\n",
    "dim_2.shape = (5,2,1)\n",
    "print(dim_2)\n",
    "\n",
    "print('----')\n",
    "print('Массив: [[[1,2,3,4,5], [1,2,3,4,5], [1,2,3,4,5]]], устанавливаем shape = -1, получаем:')\n",
    "dim_3.shape = -1\n",
    "print(dim_3)"
   ]
  },
  {
   "cell_type": "markdown",
   "metadata": {},
   "source": [
    "**np.empty** - новый массив с произвольными значениями. Значения элементов массива будут зависеть от текущего состояния памяти. Функция оптимизирована для быстродействия, поэтому фактически этот метод стоит применять только для создания массивов, которые будут перезаписываться. "
   ]
  },
  {
   "cell_type": "code",
   "execution_count": 34,
   "metadata": {},
   "outputs": [
    {
     "data": {
      "text/plain": [
       "array([1.57525147e-311, 2.32210854e-322, 0.00000000e+000, 0.00000000e+000,\n",
       "       0.00000000e+000, 1.16095484e-028, 3.65093134e+233, 4.25117084e-096,\n",
       "       9.80058441e+252, 1.23971686e+224])"
      ]
     },
     "execution_count": 34,
     "metadata": {},
     "output_type": "execute_result"
    }
   ],
   "source": [
    "np.empty(10)"
   ]
  },
  {
   "cell_type": "code",
   "execution_count": 39,
   "metadata": {},
   "outputs": [
    {
     "data": {
      "text/plain": [
       "array([         0,          0, 1479177968,        742, 1479176880,\n",
       "              742, 1479176944,        742,    7209065,          0])"
      ]
     },
     "execution_count": 39,
     "metadata": {},
     "output_type": "execute_result"
    }
   ],
   "source": [
    "np.empty(10, dtype = np.int32)"
   ]
  },
  {
   "cell_type": "markdown",
   "metadata": {},
   "source": [
    "**np.arange** - создаёт массив из последовательных чисел от и до заданного, не включая его. Работает аналогично ***range*** в python, но позволяет оперировать с дробными значениями. "
   ]
  },
  {
   "cell_type": "code",
   "execution_count": 40,
   "metadata": {},
   "outputs": [
    {
     "data": {
      "text/plain": [
       "array([1, 2, 3, 4, 5, 6, 7, 8, 9])"
      ]
     },
     "execution_count": 40,
     "metadata": {},
     "output_type": "execute_result"
    }
   ],
   "source": [
    "np.arange(1, 10)"
   ]
  },
  {
   "cell_type": "code",
   "execution_count": 41,
   "metadata": {},
   "outputs": [
    {
     "data": {
      "text/plain": [
       "array([1. , 1.5, 2. , 2.5, 3. , 3.5, 4. , 4.5, 5. , 5.5, 6. , 6.5, 7. ,\n",
       "       7.5, 8. , 8.5, 9. , 9.5])"
      ]
     },
     "execution_count": 41,
     "metadata": {},
     "output_type": "execute_result"
    }
   ],
   "source": [
    "np.arange(1, 10, 0.5)"
   ]
  },
  {
   "cell_type": "code",
   "execution_count": 42,
   "metadata": {},
   "outputs": [
    {
     "data": {
      "text/plain": [
       "array([1.2, 1.4, 1.6, 1.8, 2. , 2.2, 2.4, 2.6, 2.8])"
      ]
     },
     "execution_count": 42,
     "metadata": {},
     "output_type": "execute_result"
    }
   ],
   "source": [
    "np.arange(1.2, 3, 0.2)"
   ]
  },
  {
   "cell_type": "code",
   "execution_count": 44,
   "metadata": {},
   "outputs": [
    {
     "data": {
      "text/plain": [
       "array([1.2, 1.6, 2. , 2.4, 2.8])"
      ]
     },
     "execution_count": 44,
     "metadata": {},
     "output_type": "execute_result"
    }
   ],
   "source": [
    "np.arange(1.2, 3.1, 0.4)"
   ]
  },
  {
   "cell_type": "markdown",
   "metadata": {},
   "source": [
    "**np.linspace** - создаёт массив с равномерно распределёнными значениями в заданном интервале. Принимает началльное значение последовательности, конечное, и число элементов. Если указать аргумент ***retstep = True***, то функция вернёт значение шага."
   ]
  },
  {
   "cell_type": "code",
   "execution_count": 3,
   "metadata": {},
   "outputs": [
    {
     "data": {
      "text/plain": [
       "array([ 0.        ,  0.20408163,  0.40816327,  0.6122449 ,  0.81632653,\n",
       "        1.02040816,  1.2244898 ,  1.42857143,  1.63265306,  1.83673469,\n",
       "        2.04081633,  2.24489796,  2.44897959,  2.65306122,  2.85714286,\n",
       "        3.06122449,  3.26530612,  3.46938776,  3.67346939,  3.87755102,\n",
       "        4.08163265,  4.28571429,  4.48979592,  4.69387755,  4.89795918,\n",
       "        5.10204082,  5.30612245,  5.51020408,  5.71428571,  5.91836735,\n",
       "        6.12244898,  6.32653061,  6.53061224,  6.73469388,  6.93877551,\n",
       "        7.14285714,  7.34693878,  7.55102041,  7.75510204,  7.95918367,\n",
       "        8.16326531,  8.36734694,  8.57142857,  8.7755102 ,  8.97959184,\n",
       "        9.18367347,  9.3877551 ,  9.59183673,  9.79591837, 10.        ])"
      ]
     },
     "execution_count": 3,
     "metadata": {},
     "output_type": "execute_result"
    }
   ],
   "source": [
    "np.linspace(0, 10, 50)"
   ]
  },
  {
   "cell_type": "code",
   "execution_count": 4,
   "metadata": {},
   "outputs": [
    {
     "data": {
      "text/plain": [
       "(array([0.  , 0.25, 0.5 , 0.75, 1.  ]), 0.25)"
      ]
     },
     "execution_count": 4,
     "metadata": {},
     "output_type": "execute_result"
    }
   ],
   "source": [
    "np.linspace(0, 1, 5, retstep = True)"
   ]
  },
  {
   "cell_type": "markdown",
   "metadata": {},
   "source": [
    "**np.ones** - создаёт массив с единицами. "
   ]
  },
  {
   "cell_type": "code",
   "execution_count": 48,
   "metadata": {},
   "outputs": [
    {
     "data": {
      "text/plain": [
       "array([1., 1., 1., 1., 1.])"
      ]
     },
     "execution_count": 48,
     "metadata": {},
     "output_type": "execute_result"
    }
   ],
   "source": [
    "np.ones(5)"
   ]
  },
  {
   "cell_type": "code",
   "execution_count": 47,
   "metadata": {},
   "outputs": [
    {
     "data": {
      "text/plain": [
       "array([[1., 1.],\n",
       "       [1., 1.],\n",
       "       [1., 1.],\n",
       "       [1., 1.],\n",
       "       [1., 1.]])"
      ]
     },
     "execution_count": 47,
     "metadata": {},
     "output_type": "execute_result"
    }
   ],
   "source": [
    "np.ones([5,2])"
   ]
  },
  {
   "cell_type": "markdown",
   "metadata": {},
   "source": [
    "**np.ones_like** - создаёт массив размера, аналогичного тому, который на входе, но содержащего только единицы."
   ]
  },
  {
   "cell_type": "code",
   "execution_count": 50,
   "metadata": {},
   "outputs": [
    {
     "data": {
      "text/plain": [
       "array([1, 1, 1, 1, 1])"
      ]
     },
     "execution_count": 50,
     "metadata": {},
     "output_type": "execute_result"
    }
   ],
   "source": [
    "np.ones_like(np.array([1,2,3,4,5]))"
   ]
  },
  {
   "cell_type": "code",
   "execution_count": 51,
   "metadata": {},
   "outputs": [
    {
     "data": {
      "text/plain": [
       "array([[1, 1, 1, 1, 1],\n",
       "       [1, 1, 1, 1, 1]])"
      ]
     },
     "execution_count": 51,
     "metadata": {},
     "output_type": "execute_result"
    }
   ],
   "source": [
    "np.ones_like(np.array([[1,2,3,4,5], [1,2,3,4,5]]))"
   ]
  },
  {
   "cell_type": "markdown",
   "metadata": {},
   "source": [
    "**np.zeros** - создаёт массив с нулями. "
   ]
  },
  {
   "cell_type": "code",
   "execution_count": 52,
   "metadata": {},
   "outputs": [
    {
     "data": {
      "text/plain": [
       "array([0., 0., 0., 0., 0.])"
      ]
     },
     "execution_count": 52,
     "metadata": {},
     "output_type": "execute_result"
    }
   ],
   "source": [
    "np.zeros(5)"
   ]
  },
  {
   "cell_type": "code",
   "execution_count": 53,
   "metadata": {},
   "outputs": [
    {
     "data": {
      "text/plain": [
       "array([[0., 0.],\n",
       "       [0., 0.],\n",
       "       [0., 0.],\n",
       "       [0., 0.],\n",
       "       [0., 0.]])"
      ]
     },
     "execution_count": 53,
     "metadata": {},
     "output_type": "execute_result"
    }
   ],
   "source": [
    "np.zeros([5,2])"
   ]
  },
  {
   "cell_type": "markdown",
   "metadata": {},
   "source": [
    "**np.ones_like** - создаёт массив размера, аналогичного тому, который на входе, но содержащего только нули."
   ]
  },
  {
   "cell_type": "code",
   "execution_count": 56,
   "metadata": {},
   "outputs": [
    {
     "data": {
      "text/plain": [
       "array([0, 0, 0, 0, 0])"
      ]
     },
     "execution_count": 56,
     "metadata": {},
     "output_type": "execute_result"
    }
   ],
   "source": [
    "np.zeros_like(np.array([1,2,3,4,5]))"
   ]
  },
  {
   "cell_type": "code",
   "execution_count": 54,
   "metadata": {},
   "outputs": [
    {
     "data": {
      "text/plain": [
       "array([[0, 0, 0, 0, 0],\n",
       "       [0, 0, 0, 0, 0]])"
      ]
     },
     "execution_count": 54,
     "metadata": {},
     "output_type": "execute_result"
    }
   ],
   "source": [
    "np.zeros_like(np.array([[1,2,3,4,5], [1,2,3,4,5]]))"
   ]
  },
  {
   "cell_type": "markdown",
   "metadata": {},
   "source": [
    "**np.full** - создаёт массив, заполненный заданным значением. Первым аргументом передаётся размер массива, вторым - значение, которым необходимо заполнить массив. "
   ]
  },
  {
   "cell_type": "code",
   "execution_count": 58,
   "metadata": {},
   "outputs": [
    {
     "data": {
      "text/plain": [
       "array([10, 10, 10, 10, 10])"
      ]
     },
     "execution_count": 58,
     "metadata": {},
     "output_type": "execute_result"
    }
   ],
   "source": [
    "np.full(5, 10)"
   ]
  },
  {
   "cell_type": "code",
   "execution_count": 59,
   "metadata": {},
   "outputs": [
    {
     "data": {
      "text/plain": [
       "array([[10, 10],\n",
       "       [10, 10],\n",
       "       [10, 10],\n",
       "       [10, 10],\n",
       "       [10, 10]])"
      ]
     },
     "execution_count": 59,
     "metadata": {},
     "output_type": "execute_result"
    }
   ],
   "source": [
    "np.full([5,2], 10)"
   ]
  },
  {
   "cell_type": "markdown",
   "metadata": {},
   "source": [
    "**np.full_like** - создаёт массив размера, аналогичного тому, который на входе, но содержащего только заданные значения. "
   ]
  },
  {
   "cell_type": "code",
   "execution_count": 61,
   "metadata": {},
   "outputs": [
    {
     "data": {
      "text/plain": [
       "array([10, 10, 10, 10, 10])"
      ]
     },
     "execution_count": 61,
     "metadata": {},
     "output_type": "execute_result"
    }
   ],
   "source": [
    "np.full_like(np.array([1,2,3,4,5]), 10)"
   ]
  },
  {
   "cell_type": "code",
   "execution_count": 62,
   "metadata": {},
   "outputs": [
    {
     "data": {
      "text/plain": [
       "array([[10, 10, 10, 10, 10],\n",
       "       [10, 10, 10, 10, 10]])"
      ]
     },
     "execution_count": 62,
     "metadata": {},
     "output_type": "execute_result"
    }
   ],
   "source": [
    "np.full_like(np.array([[1,2,3,4,5], [1,2,3,4,5]]), 10)"
   ]
  },
  {
   "cell_type": "markdown",
   "metadata": {},
   "source": [
    "**np.mat** - создаёт матрицу на основе данных строки, списка или кортежа, преобразуя эти объекты необходимым образом, чтобы получить матрицу (но это не всегда возможно)."
   ]
  },
  {
   "cell_type": "code",
   "execution_count": 9,
   "metadata": {},
   "outputs": [
    {
     "data": {
      "text/plain": [
       "matrix([[1, 2, 3, 4]])"
      ]
     },
     "metadata": {},
     "output_type": "display_data"
    },
    {
     "data": {
      "text/plain": [
       "matrix([[1, 2, 3, 4]])"
      ]
     },
     "metadata": {},
     "output_type": "display_data"
    },
    {
     "data": {
      "text/plain": [
       "matrix([[1, 2],\n",
       "        [3, 4]])"
      ]
     },
     "metadata": {},
     "output_type": "display_data"
    }
   ],
   "source": [
    "display(np.mat('1 2 3 4')) # создает матрицу 1x4 из строки\n",
    "display(np.mat('1, 2, 3, 4')) # то же самое: создает матрицу 1x4 из строки\n",
    "display(np.mat('1 2; 3 4')) # возвращает матрицу 2x2"
   ]
  },
  {
   "cell_type": "code",
   "execution_count": null,
   "metadata": {},
   "outputs": [],
   "source": []
  },
  {
   "cell_type": "markdown",
   "metadata": {},
   "source": [
    "**np.tile** - создаёт массив на основе повторения элементов. Первым аргументом принимает массив, который необходимо дублировать, вторым - количество раз, которое его нужно повторить. Второй аргумент может задаваться в виде кортежа, который определяет финальный вид созданного массива: каждый элемент в кортеже отвечает за то, сколько раз исходный массив продублировать вдоль соответствующей оси."
   ]
  },
  {
   "cell_type": "code",
   "execution_count": 7,
   "metadata": {},
   "outputs": [
    {
     "data": {
      "text/plain": [
       "array([1, 2, 3, 4, 5, 1, 2, 3, 4, 5, 1, 2, 3, 4, 5, 1, 2, 3, 4, 5, 1, 2,\n",
       "       3, 4, 5, 1, 2, 3, 4, 5, 1, 2, 3, 4, 5, 1, 2, 3, 4, 5, 1, 2, 3, 4,\n",
       "       5, 1, 2, 3, 4, 5])"
      ]
     },
     "execution_count": 7,
     "metadata": {},
     "output_type": "execute_result"
    }
   ],
   "source": [
    "np.tile(np.array([1,2,3,4,5]), 10)"
   ]
  },
  {
   "cell_type": "code",
   "execution_count": 5,
   "metadata": {},
   "outputs": [
    {
     "data": {
      "text/plain": [
       "array([[1, 2, 3, 4, 5, 1, 2, 3, 4, 5],\n",
       "       [1, 2, 3, 4, 5, 1, 2, 3, 4, 5]])"
      ]
     },
     "execution_count": 5,
     "metadata": {},
     "output_type": "execute_result"
    }
   ],
   "source": [
    "np.tile(np.array([1,2,3,4,5]), (2,2))"
   ]
  },
  {
   "cell_type": "code",
   "execution_count": 9,
   "metadata": {},
   "outputs": [
    {
     "data": {
      "text/plain": [
       "array([[[1, 2, 3, 4, 5, 1, 2, 3, 4, 5],\n",
       "        [1, 2, 3, 4, 5, 1, 2, 3, 4, 5]],\n",
       "\n",
       "       [[1, 2, 3, 4, 5, 1, 2, 3, 4, 5],\n",
       "        [1, 2, 3, 4, 5, 1, 2, 3, 4, 5]]])"
      ]
     },
     "execution_count": 9,
     "metadata": {},
     "output_type": "execute_result"
    }
   ],
   "source": [
    "np.tile(np.array([1,2,3,4,5]), (2,2,2))"
   ]
  },
  {
   "cell_type": "markdown",
   "metadata": {},
   "source": [
    "### Создание и заполнение матриц"
   ]
  },
  {
   "cell_type": "markdown",
   "metadata": {},
   "source": [
    "**np.asmatrix** - создание матрицы на основе заданного списка / кортежа."
   ]
  },
  {
   "cell_type": "code",
   "execution_count": 68,
   "metadata": {},
   "outputs": [
    {
     "data": {
      "text/plain": [
       "matrix([[1, 2, 3],\n",
       "        [1, 2, 3],\n",
       "        [1, 2, 3]])"
      ]
     },
     "execution_count": 68,
     "metadata": {},
     "output_type": "execute_result"
    }
   ],
   "source": [
    "np.asmatrix([(1,2,3), (1,2,3), (1,2,3)])"
   ]
  },
  {
   "cell_type": "markdown",
   "metadata": {},
   "source": [
    "**np.diag** - создаёт матрицу с элементами на главной диагонали из заданного списка и нулями вне главной диагонали. Если в функцию передаётся не список, а массив, то будут возвращены значения, лежащие на главной диагонали этого массива."
   ]
  },
  {
   "cell_type": "code",
   "execution_count": 69,
   "metadata": {},
   "outputs": [
    {
     "data": {
      "text/plain": [
       "array([[1, 0, 0, 0, 0],\n",
       "       [0, 2, 0, 0, 0],\n",
       "       [0, 0, 3, 0, 0],\n",
       "       [0, 0, 0, 4, 0],\n",
       "       [0, 0, 0, 0, 5]])"
      ]
     },
     "execution_count": 69,
     "metadata": {},
     "output_type": "execute_result"
    }
   ],
   "source": [
    "np.diag([1,2,3,4,5])"
   ]
  },
  {
   "cell_type": "code",
   "execution_count": 72,
   "metadata": {},
   "outputs": [
    {
     "data": {
      "text/plain": [
       "array([1, 2, 3])"
      ]
     },
     "execution_count": 72,
     "metadata": {},
     "output_type": "execute_result"
    }
   ],
   "source": [
    "np.diag(np.array([[1,2,3,4,5], [1,2,3,4,5], [1,2,3,4,5]]))"
   ]
  },
  {
   "cell_type": "markdown",
   "metadata": {},
   "source": [
    "**np.diagflat** - создаёт матрицу с элементами на главной диагонали из переданного массива. Похожа на ***np.diag***, но если ***np.diag*** обрабатывает только переданный массив, но ***diagflat*** сначала извлекает все значения из него, а затем строит матрицу. Результаты между ними будут отличаться в случае многомерных массивов. "
   ]
  },
  {
   "cell_type": "code",
   "execution_count": 73,
   "metadata": {},
   "outputs": [
    {
     "data": {
      "text/plain": [
       "array([[1, 0, 0, 0, 0],\n",
       "       [0, 2, 0, 0, 0],\n",
       "       [0, 0, 3, 0, 0],\n",
       "       [0, 0, 0, 4, 0],\n",
       "       [0, 0, 0, 0, 5]])"
      ]
     },
     "execution_count": 73,
     "metadata": {},
     "output_type": "execute_result"
    }
   ],
   "source": [
    "np.diagflat([1,2,3,4,5])"
   ]
  },
  {
   "cell_type": "code",
   "execution_count": 74,
   "metadata": {},
   "outputs": [
    {
     "data": {
      "text/plain": [
       "array([[1, 0, 0, 0, 0, 0, 0, 0, 0, 0, 0, 0, 0, 0, 0],\n",
       "       [0, 2, 0, 0, 0, 0, 0, 0, 0, 0, 0, 0, 0, 0, 0],\n",
       "       [0, 0, 3, 0, 0, 0, 0, 0, 0, 0, 0, 0, 0, 0, 0],\n",
       "       [0, 0, 0, 4, 0, 0, 0, 0, 0, 0, 0, 0, 0, 0, 0],\n",
       "       [0, 0, 0, 0, 5, 0, 0, 0, 0, 0, 0, 0, 0, 0, 0],\n",
       "       [0, 0, 0, 0, 0, 1, 0, 0, 0, 0, 0, 0, 0, 0, 0],\n",
       "       [0, 0, 0, 0, 0, 0, 2, 0, 0, 0, 0, 0, 0, 0, 0],\n",
       "       [0, 0, 0, 0, 0, 0, 0, 3, 0, 0, 0, 0, 0, 0, 0],\n",
       "       [0, 0, 0, 0, 0, 0, 0, 0, 4, 0, 0, 0, 0, 0, 0],\n",
       "       [0, 0, 0, 0, 0, 0, 0, 0, 0, 5, 0, 0, 0, 0, 0],\n",
       "       [0, 0, 0, 0, 0, 0, 0, 0, 0, 0, 1, 0, 0, 0, 0],\n",
       "       [0, 0, 0, 0, 0, 0, 0, 0, 0, 0, 0, 2, 0, 0, 0],\n",
       "       [0, 0, 0, 0, 0, 0, 0, 0, 0, 0, 0, 0, 3, 0, 0],\n",
       "       [0, 0, 0, 0, 0, 0, 0, 0, 0, 0, 0, 0, 0, 4, 0],\n",
       "       [0, 0, 0, 0, 0, 0, 0, 0, 0, 0, 0, 0, 0, 0, 5]])"
      ]
     },
     "execution_count": 74,
     "metadata": {},
     "output_type": "execute_result"
    }
   ],
   "source": [
    "np.diagflat(np.array([[1,2,3,4,5], [1,2,3,4,5], [1,2,3,4,5]]))"
   ]
  },
  {
   "cell_type": "markdown",
   "metadata": {},
   "source": [
    "**np.eye** - создаёт матрицу с единицами на главной диагонали. Если передан один аргумент, то создаётся квадратная матрица этого размера. \n",
    "Если передано два неодинаковых аргумента, то создаётся матрица соответствующего размера с единицами на главной диагонали. Третий аргумент отвечает за смещение главной диагонали (по вертикали, если значение положительно и по горизонтали, если отрицательно). "
   ]
  },
  {
   "cell_type": "code",
   "execution_count": 75,
   "metadata": {},
   "outputs": [
    {
     "data": {
      "text/plain": [
       "array([[1., 0., 0., 0., 0.],\n",
       "       [0., 1., 0., 0., 0.],\n",
       "       [0., 0., 1., 0., 0.],\n",
       "       [0., 0., 0., 1., 0.],\n",
       "       [0., 0., 0., 0., 1.]])"
      ]
     },
     "execution_count": 75,
     "metadata": {},
     "output_type": "execute_result"
    }
   ],
   "source": [
    "np.eye(5)"
   ]
  },
  {
   "cell_type": "code",
   "execution_count": 77,
   "metadata": {},
   "outputs": [
    {
     "data": {
      "text/plain": [
       "array([[1., 0., 0., 0., 0., 0., 0., 0., 0., 0.],\n",
       "       [0., 1., 0., 0., 0., 0., 0., 0., 0., 0.],\n",
       "       [0., 0., 1., 0., 0., 0., 0., 0., 0., 0.],\n",
       "       [0., 0., 0., 1., 0., 0., 0., 0., 0., 0.],\n",
       "       [0., 0., 0., 0., 1., 0., 0., 0., 0., 0.]])"
      ]
     },
     "execution_count": 77,
     "metadata": {},
     "output_type": "execute_result"
    }
   ],
   "source": [
    "np.eye(5,10)"
   ]
  },
  {
   "cell_type": "code",
   "execution_count": 82,
   "metadata": {},
   "outputs": [
    {
     "data": {
      "text/plain": [
       "array([[0., 0., 1., 0., 0., 0., 0., 0., 0., 0.],\n",
       "       [0., 0., 0., 1., 0., 0., 0., 0., 0., 0.],\n",
       "       [0., 0., 0., 0., 1., 0., 0., 0., 0., 0.],\n",
       "       [0., 0., 0., 0., 0., 1., 0., 0., 0., 0.],\n",
       "       [0., 0., 0., 0., 0., 0., 1., 0., 0., 0.]])"
      ]
     },
     "execution_count": 82,
     "metadata": {},
     "output_type": "execute_result"
    }
   ],
   "source": [
    "np.eye(5,10,2)"
   ]
  },
  {
   "cell_type": "code",
   "execution_count": 83,
   "metadata": {},
   "outputs": [
    {
     "data": {
      "text/plain": [
       "array([[0., 0., 0., 0., 0., 0., 0., 0., 0., 0.],\n",
       "       [0., 0., 0., 0., 0., 0., 0., 0., 0., 0.],\n",
       "       [1., 0., 0., 0., 0., 0., 0., 0., 0., 0.],\n",
       "       [0., 1., 0., 0., 0., 0., 0., 0., 0., 0.],\n",
       "       [0., 0., 1., 0., 0., 0., 0., 0., 0., 0.]])"
      ]
     },
     "execution_count": 83,
     "metadata": {},
     "output_type": "execute_result"
    }
   ],
   "source": [
    "np.eye(5,10,-2)"
   ]
  },
  {
   "cell_type": "markdown",
   "metadata": {},
   "source": [
    "**np.identity** - оздаёт матрицу с единицами на главной диагонали. Работает аналогично ***np.eye*** с одним аргументом. "
   ]
  },
  {
   "cell_type": "code",
   "execution_count": 86,
   "metadata": {},
   "outputs": [
    {
     "data": {
      "text/plain": [
       "array([[1., 0., 0., 0., 0., 0., 0., 0., 0., 0.],\n",
       "       [0., 1., 0., 0., 0., 0., 0., 0., 0., 0.],\n",
       "       [0., 0., 1., 0., 0., 0., 0., 0., 0., 0.],\n",
       "       [0., 0., 0., 1., 0., 0., 0., 0., 0., 0.],\n",
       "       [0., 0., 0., 0., 1., 0., 0., 0., 0., 0.],\n",
       "       [0., 0., 0., 0., 0., 1., 0., 0., 0., 0.],\n",
       "       [0., 0., 0., 0., 0., 0., 1., 0., 0., 0.],\n",
       "       [0., 0., 0., 0., 0., 0., 0., 1., 0., 0.],\n",
       "       [0., 0., 0., 0., 0., 0., 0., 0., 1., 0.],\n",
       "       [0., 0., 0., 0., 0., 0., 0., 0., 0., 1.]])"
      ]
     },
     "execution_count": 86,
     "metadata": {},
     "output_type": "execute_result"
    }
   ],
   "source": [
    "np.identity(10)"
   ]
  },
  {
   "cell_type": "markdown",
   "metadata": {},
   "source": [
    "**np.tri** - создаёт нижнюю треугольную матрицу, состоящую из единиц ниже главной диагонали. Если передан один аргумент, то создаётся квадратная матрица этого размера. Если передано два неодинаковых аргумента, то создаётся матрица соответствующего размера с единицами на главной диагонали. Третий аргумент отвечает за смещение главной диагонали (по вертикали, если значение положительно и по горизонтали, если отрицательно). "
   ]
  },
  {
   "cell_type": "code",
   "execution_count": 90,
   "metadata": {},
   "outputs": [
    {
     "data": {
      "text/plain": [
       "array([[1., 0., 0., 0., 0.],\n",
       "       [1., 1., 0., 0., 0.],\n",
       "       [1., 1., 1., 0., 0.],\n",
       "       [1., 1., 1., 1., 0.],\n",
       "       [1., 1., 1., 1., 1.]])"
      ]
     },
     "execution_count": 90,
     "metadata": {},
     "output_type": "execute_result"
    }
   ],
   "source": [
    "np.tri(5)"
   ]
  },
  {
   "cell_type": "code",
   "execution_count": 91,
   "metadata": {},
   "outputs": [
    {
     "data": {
      "text/plain": [
       "array([[1., 0., 0., 0., 0., 0., 0., 0., 0., 0.],\n",
       "       [1., 1., 0., 0., 0., 0., 0., 0., 0., 0.],\n",
       "       [1., 1., 1., 0., 0., 0., 0., 0., 0., 0.],\n",
       "       [1., 1., 1., 1., 0., 0., 0., 0., 0., 0.],\n",
       "       [1., 1., 1., 1., 1., 0., 0., 0., 0., 0.]])"
      ]
     },
     "execution_count": 91,
     "metadata": {},
     "output_type": "execute_result"
    }
   ],
   "source": [
    "np.tri(5,10)"
   ]
  },
  {
   "cell_type": "code",
   "execution_count": 92,
   "metadata": {},
   "outputs": [
    {
     "data": {
      "text/plain": [
       "array([[1., 1., 1., 0., 0., 0., 0., 0., 0., 0.],\n",
       "       [1., 1., 1., 1., 0., 0., 0., 0., 0., 0.],\n",
       "       [1., 1., 1., 1., 1., 0., 0., 0., 0., 0.],\n",
       "       [1., 1., 1., 1., 1., 1., 0., 0., 0., 0.],\n",
       "       [1., 1., 1., 1., 1., 1., 1., 0., 0., 0.]])"
      ]
     },
     "execution_count": 92,
     "metadata": {},
     "output_type": "execute_result"
    }
   ],
   "source": [
    "np.tri(5,10,2)"
   ]
  },
  {
   "cell_type": "code",
   "execution_count": 93,
   "metadata": {},
   "outputs": [
    {
     "data": {
      "text/plain": [
       "array([[0., 0., 0., 0., 0., 0., 0., 0., 0., 0.],\n",
       "       [0., 0., 0., 0., 0., 0., 0., 0., 0., 0.],\n",
       "       [1., 0., 0., 0., 0., 0., 0., 0., 0., 0.],\n",
       "       [1., 1., 0., 0., 0., 0., 0., 0., 0., 0.],\n",
       "       [1., 1., 1., 0., 0., 0., 0., 0., 0., 0.]])"
      ]
     },
     "execution_count": 93,
     "metadata": {},
     "output_type": "execute_result"
    }
   ],
   "source": [
    "np.tri(5,10,-2)"
   ]
  },
  {
   "cell_type": "markdown",
   "metadata": {},
   "source": [
    "**np.tril** - создаёт нижнюю треугольную матрицу из переданного массива, обнуляя все значения выше главной диагонали. \n",
    "Принимает на вход как матрицу, так и массив или список. Если передать \"не-квадратный\" массив или список, то он будет сначала автоматически преобразован в двумерную матрицу и затем обработан."
   ]
  },
  {
   "cell_type": "code",
   "execution_count": 99,
   "metadata": {},
   "outputs": [
    {
     "data": {
      "text/plain": [
       "array([[1., 0., 0., 0., 0.],\n",
       "       [1., 1., 0., 0., 0.],\n",
       "       [1., 1., 1., 0., 0.],\n",
       "       [1., 1., 1., 1., 0.],\n",
       "       [1., 1., 1., 1., 1.]])"
      ]
     },
     "execution_count": 99,
     "metadata": {},
     "output_type": "execute_result"
    }
   ],
   "source": [
    "np.tril(np.ones(5))"
   ]
  },
  {
   "cell_type": "code",
   "execution_count": 100,
   "metadata": {},
   "outputs": [
    {
     "data": {
      "text/plain": [
       "array([[1, 0, 0, 0, 0],\n",
       "       [1, 2, 0, 0, 0]])"
      ]
     },
     "execution_count": 100,
     "metadata": {},
     "output_type": "execute_result"
    }
   ],
   "source": [
    "np.tril([[1,2,3,4,5], [1,2,3,4,5]])"
   ]
  },
  {
   "cell_type": "markdown",
   "metadata": {},
   "source": [
    "**np.triu** - аналогично ***np.tril***, но работает с верхней треугольной матрицей. "
   ]
  },
  {
   "cell_type": "markdown",
   "metadata": {},
   "source": [
    "### Представление массива\n",
    "\n",
    "Массив - это набор элементов. \n",
    "Представление массива - это то, как эти элементы комбинируются между собой, распределяются по измерениям (осям) и представляются пользователю. \n",
    "Массив может иметь неограниченное количество представлений. \n",
    "\n",
    "При этом изменение исходного массива также меняет и все представления этого массива. "
   ]
  },
  {
   "cell_type": "markdown",
   "metadata": {},
   "source": [
    "**np.array.shape** - через данный метод можно менять представление массива, если присвоить ему значение или кортеж, соответствующий новому представлению. Одно число задаётся, если необходимо задать представление массива как одномерного. \n",
    "При этом это число должно быть равно свойству ***size***, либо -1. "
   ]
  },
  {
   "cell_type": "code",
   "execution_count": 27,
   "metadata": {},
   "outputs": [
    {
     "name": "stdout",
     "output_type": "stream",
     "text": [
      "Исходное представление: \n",
      "[[1 2 3 4 5]\n",
      " [1 2 3 4 5]\n",
      " [1 2 3 4 5]]\n",
      "\n",
      "Новое представление: \n",
      "[1 2 3 4 5 1 2 3 4 5 1 2 3 4 5]\n"
     ]
    }
   ],
   "source": [
    "arr = np.array([[1,2,3,4,5], [1,2,3,4,5], [1,2,3,4,5]])\n",
    "print(f'Исходное представление: \\n{arr}')\n",
    "arr.shape = 15\n",
    "print(f'\\nНовое представление: \\n{arr}')"
   ]
  },
  {
   "cell_type": "markdown",
   "metadata": {},
   "source": [
    "Если же задаётся кортеж, то произведение значений в нём должно быть равно свойству ***size***. \n",
    "При этом расчёт требуемого числа для одной из осей можно упустить, поставив туда -1, тогда требуемое число будет рассчитано автоматически. "
   ]
  },
  {
   "cell_type": "code",
   "execution_count": 34,
   "metadata": {},
   "outputs": [
    {
     "name": "stdout",
     "output_type": "stream",
     "text": [
      "Исходное представление: \n",
      "[[1 2 3 4 5 6]\n",
      " [1 2 3 4 5 6]\n",
      " [1 2 3 4 5 6]]\n",
      "\n",
      "Представление для shape = (2,9): \n",
      "[[1 2 3 4 5 6 1 2 3]\n",
      " [4 5 6 1 2 3 4 5 6]]\n",
      "\n",
      "Представление для shape = (6,3): \n",
      "[[1 2 3]\n",
      " [4 5 6]\n",
      " [1 2 3]\n",
      " [4 5 6]\n",
      " [1 2 3]\n",
      " [4 5 6]]\n",
      "\n",
      "Представление для shape = (9,2): \n",
      "[[1 2]\n",
      " [3 4]\n",
      " [5 6]\n",
      " [1 2]\n",
      " [3 4]\n",
      " [5 6]\n",
      " [1 2]\n",
      " [3 4]\n",
      " [5 6]]\n"
     ]
    }
   ],
   "source": [
    "arr = np.array([[1,2,3,4,5,6], [1,2,3,4,5,6], [1,2,3,4,5,6]])\n",
    "print(f'Исходное представление: \\n{arr}')\n",
    "arr.shape = (2,9)\n",
    "print(f'\\nПредставление для shape = (2,9): \\n{arr}')\n",
    "arr.shape = (6,3)\n",
    "print(f'\\nПредставление для shape = (6,3): \\n{arr}')\n",
    "arr.shape = (9,2)\n",
    "print(f'\\nПредставление для shape = (9,2): \\n{arr}')"
   ]
  },
  {
   "cell_type": "markdown",
   "metadata": {},
   "source": [
    "**N.B.** Изменение представления \"наоборот\" (например, из (3,4) в (4,3)) не производит транспонирования. Все элементы сначала раскрываются в одну последовательность, из которой извлекается нужное число для помещения на ось."
   ]
  },
  {
   "cell_type": "markdown",
   "metadata": {},
   "source": [
    "**np.array.reshape** - создание нового представления массива. При этом не меняется представление исходного массива, в отличие от ***np.array.shape***."
   ]
  },
  {
   "cell_type": "code",
   "execution_count": 40,
   "metadata": {},
   "outputs": [
    {
     "name": "stdout",
     "output_type": "stream",
     "text": [
      "Исходное представление: \n",
      "[[1 2 3 4 5 6]\n",
      " [1 2 3 4 5 6]\n",
      " [1 2 3 4 5 6]]\n",
      "\n",
      "Новое представление - (2,9): \n",
      " [[1 2 3 4 5 6 1 2 3]\n",
      " [4 5 6 1 2 3 4 5 6]]\n",
      "\n",
      "Исходное представление не меняется: \n",
      "[[1 2 3 4 5 6]\n",
      " [1 2 3 4 5 6]\n",
      " [1 2 3 4 5 6]]\n"
     ]
    }
   ],
   "source": [
    "arr = np.array([[1,2,3,4,5,6], [1,2,3,4,5,6], [1,2,3,4,5,6]])\n",
    "print(f'Исходное представление: \\n{arr}')\n",
    "arr_reshape = arr.reshape(2,9)\n",
    "print(f'\\nНовое представление - (2,9): \\n {arr_reshape}')\n",
    "print(f'\\nИсходное представление не меняется: \\n{arr}')"
   ]
  },
  {
   "cell_type": "markdown",
   "metadata": {},
   "source": [
    "**np.array.resize** - расширенное изменение представления массива. Функционал схожий с изменением через ***np.array.shape***. \n",
    "Главное отличие - можно указывать значения так, чтобы размерность в новом представлении отличалась от размерности исходного (для этого указать аргумент ***refcheck = False***).\n",
    "\n",
    "Недостающие элементы в новом представлении будут заменены нулями. Избыточные элементы не будут отображены. Количество элементов меняется, поэтому есть риск потери информации. \n",
    "\n",
    "Также метод не принимает -1 в качестве аргумента для упрощённого расчёта количества элементов на оси. "
   ]
  },
  {
   "cell_type": "code",
   "execution_count": 56,
   "metadata": {},
   "outputs": [
    {
     "name": "stdout",
     "output_type": "stream",
     "text": [
      "Исходное представление: \n",
      "[[1 2 3 4 5 6]\n",
      " [1 2 3 4 5 6]\n",
      " [1 2 3 4 5 6]]\n",
      "\n",
      "Новое представление - (4,3): \n",
      " [[1 2 3]\n",
      " [4 5 6]\n",
      " [1 2 3]\n",
      " [4 5 6]]\n",
      "\n",
      "Новое представление - (3,5): \n",
      " [[1 2 3 4 5]\n",
      " [6 1 2 3 4]\n",
      " [5 6 0 0 0]]\n"
     ]
    }
   ],
   "source": [
    "arr = np.array([[1,2,3,4,5,6], [1,2,3,4,5,6], [1,2,3,4,5,6]])\n",
    "print(f'Исходное представление: \\n{arr}')\n",
    "arr.resize(4,3)\n",
    "print(f'\\nНовое представление - (4,3): \\n {arr}')\n",
    "arr.resize(3,5)\n",
    "print(f'\\nНовое представление - (3,5): \\n {arr}')"
   ]
  },
  {
   "cell_type": "markdown",
   "metadata": {},
   "source": [
    "**np.array.ravel** - создание одномерного представления массива, без изменения текущего массива. "
   ]
  },
  {
   "cell_type": "code",
   "execution_count": 52,
   "metadata": {},
   "outputs": [
    {
     "data": {
      "text/plain": [
       "array([1, 2, 3, 4, 5, 6, 1, 2, 3, 4, 5, 6, 1, 2, 3, 4])"
      ]
     },
     "execution_count": 52,
     "metadata": {},
     "output_type": "execute_result"
    }
   ],
   "source": [
    "arr = np.array([[1,2,3,4,5,6], [1,2,3,4,5,6], [1,2,3,4,5,6]])\n",
    "arr.resize(4,4)\n",
    "arr.ravel()"
   ]
  },
  {
   "cell_type": "markdown",
   "metadata": {},
   "source": [
    "**np.array.view** - создаёт копию представления массива. Дальнейшие изменения представления исходного массива не повлияют на результат, созданный данной функцией. \n",
    "На это представление влияет изменение данных в массиве, но не влияет изменение представления исходного массива. "
   ]
  },
  {
   "cell_type": "code",
   "execution_count": 76,
   "metadata": {},
   "outputs": [
    {
     "name": "stdout",
     "output_type": "stream",
     "text": [
      "Исходное представление: \n",
      "[[1 2 3 4 5 6]\n",
      " [1 2 3 4 5 6]\n",
      " [1 2 3 4 5 6]]\n",
      "\n",
      "Новое представление - (4,3): \n",
      " [[1 2 3]\n",
      " [4 5 6]\n",
      " [1 2 3]\n",
      " [4 5 6]]\n",
      "\n",
      "Сохранённое представление: \n",
      " [[1 2 3 4 5 6]\n",
      " [1 2 3 4 5 6]\n",
      " [1 2 3 4 5 6]]\n"
     ]
    }
   ],
   "source": [
    "arr = np.array([[1,2,3,4,5,6], [1,2,3,4,5,6], [1,2,3,4,5,6]])\n",
    "print(f'Исходное представление: \\n{arr}')\n",
    "arr_view = arr.view()\n",
    "arr.resize(4,3, refcheck = False)\n",
    "print(f'\\nНовое представление - (4,3): \\n {arr}')\n",
    "print(f'\\nСохранённое представление: \\n {arr_view}')"
   ]
  },
  {
   "cell_type": "markdown",
   "metadata": {},
   "source": [
    "При этом повторный запуск сохранённого представления отобразит массив той же размерности, но без сохранения значений. "
   ]
  },
  {
   "cell_type": "code",
   "execution_count": 78,
   "metadata": {},
   "outputs": [
    {
     "name": "stdout",
     "output_type": "stream",
     "text": [
      "[[      0       0       0       0       0       0]\n",
      " [      0       0       0       0     972       0]\n",
      " [      0 4980828       0 7077985       0       6]]\n"
     ]
    }
   ],
   "source": [
    "print(arr_view)"
   ]
  },
  {
   "cell_type": "markdown",
   "metadata": {},
   "source": [
    "**np.array.copy** - создаёт полную копию массива, включая данные и представление. "
   ]
  },
  {
   "cell_type": "code",
   "execution_count": 80,
   "metadata": {},
   "outputs": [
    {
     "name": "stdout",
     "output_type": "stream",
     "text": [
      "Исходное представление: \n",
      "[[1 2 3 4 5 6]\n",
      " [1 2 3 4 5 6]\n",
      " [1 2 3 4 5 6]]\n",
      "\n",
      "Новое представление - (4,3): \n",
      " [[1 2 3]\n",
      " [4 5 6]\n",
      " [1 2 3]\n",
      " [4 5 6]]\n",
      "\n",
      "Сохранённая копия: \n",
      " [[1 2 3 4 5 6]\n",
      " [1 2 3 4 5 6]\n",
      " [1 2 3 4 5 6]]\n"
     ]
    }
   ],
   "source": [
    "arr = np.array([[1,2,3,4,5,6], [1,2,3,4,5,6], [1,2,3,4,5,6]])\n",
    "print(f'Исходное представление: \\n{arr}')\n",
    "arr_copy = arr.copy()\n",
    "arr.resize(4,3, refcheck = False)\n",
    "print(f'\\nНовое представление - (4,3): \\n {arr}')\n",
    "print(f'\\nСохранённая копия: \\n {arr_copy}')"
   ]
  },
  {
   "cell_type": "code",
   "execution_count": 83,
   "metadata": {},
   "outputs": [
    {
     "name": "stdout",
     "output_type": "stream",
     "text": [
      "Следующий запуск: \n",
      "[[1 2 3 4 5 6]\n",
      " [1 2 3 4 5 6]\n",
      " [1 2 3 4 5 6]]\n"
     ]
    }
   ],
   "source": [
    "print(f'Следующий запуск: \\n{arr_copy}')"
   ]
  },
  {
   "cell_type": "markdown",
   "metadata": {},
   "source": [
    "### Работа с измерениями (осями)"
   ]
  },
  {
   "cell_type": "markdown",
   "metadata": {},
   "source": [
    "**np.expand_dims** - добавление нового измерения (оси). Функция принимает массив, и в аргументе axis указывается номер добавляемой оси. Функция возвращает новое представление массива. "
   ]
  },
  {
   "cell_type": "code",
   "execution_count": 16,
   "metadata": {},
   "outputs": [
    {
     "name": "stdout",
     "output_type": "stream",
     "text": [
      "Исходное представление: \n",
      "[[1 2 3 4 5 6]\n",
      " [1 2 3 4 5 6]\n",
      " [1 2 3 4 5 6]]\n",
      "\n",
      "Представление после добавления оси на 3-е измерение:\n",
      " [[[1]\n",
      "  [2]\n",
      "  [3]\n",
      "  [4]\n",
      "  [5]\n",
      "  [6]]\n",
      "\n",
      " [[1]\n",
      "  [2]\n",
      "  [3]\n",
      "  [4]\n",
      "  [5]\n",
      "  [6]]\n",
      "\n",
      " [[1]\n",
      "  [2]\n",
      "  [3]\n",
      "  [4]\n",
      "  [5]\n",
      "  [6]]]\n"
     ]
    }
   ],
   "source": [
    "arr = np.array([[1,2,3,4,5,6], [1,2,3,4,5,6], [1,2,3,4,5,6]])\n",
    "print(f'Исходное представление: \\n{arr}')\n",
    "print(f'\\nПредставление после добавления оси на 3-е измерение:\\n {np.expand_dims(arr, axis = 2)}')"
   ]
  },
  {
   "cell_type": "markdown",
   "metadata": {},
   "source": [
    "**np.newaxis** - альтернативный метод добавления оси. В квадратных скобках к массиву можно написать ***np.newaxis***, чтобы добавить ось. Если массив многомерный, то в квадратный скобках через запятую пишется двоеточие там, где ось нужно сохранить, и np.newaxis - где нужно добавить. При большом количестве измерений - вместо двоеточия пишется троеточие. "
   ]
  },
  {
   "cell_type": "code",
   "execution_count": 19,
   "metadata": {},
   "outputs": [
    {
     "name": "stdout",
     "output_type": "stream",
     "text": [
      "Исходное представление: \n",
      "[[1 2 3 4 5 6]\n",
      " [1 2 3 4 5 6]\n",
      " [1 2 3 4 5 6]]\n",
      "\n",
      "Представление после добавления оси на 1-е измерение:\n",
      " [[[1 2 3 4 5 6]\n",
      "  [1 2 3 4 5 6]\n",
      "  [1 2 3 4 5 6]]]\n",
      "\n",
      "Представление после добавления оси на 2-е измерение:\n",
      " [[[1 2 3 4 5 6]]\n",
      "\n",
      " [[1 2 3 4 5 6]]\n",
      "\n",
      " [[1 2 3 4 5 6]]]\n",
      "\n",
      "Представление после добавления оси на 3-е измерение:\n",
      " [[[1]\n",
      "  [2]\n",
      "  [3]\n",
      "  [4]\n",
      "  [5]\n",
      "  [6]]\n",
      "\n",
      " [[1]\n",
      "  [2]\n",
      "  [3]\n",
      "  [4]\n",
      "  [5]\n",
      "  [6]]\n",
      "\n",
      " [[1]\n",
      "  [2]\n",
      "  [3]\n",
      "  [4]\n",
      "  [5]\n",
      "  [6]]]\n"
     ]
    }
   ],
   "source": [
    "arr = np.array([[1,2,3,4,5,6], [1,2,3,4,5,6], [1,2,3,4,5,6]])\n",
    "print(f'Исходное представление: \\n{arr}')\n",
    "print(f'\\nПредставление после добавления оси на 1-е измерение:\\n {arr[np.newaxis, :]}')\n",
    "print(f'\\nПредставление после добавления оси на 2-е измерение:\\n {arr[:, np.newaxis]}')\n",
    "print(f'\\nПредставление после добавления оси на 3-е измерение:\\n {arr[..., np.newaxis]}')"
   ]
  },
  {
   "cell_type": "markdown",
   "metadata": {},
   "source": [
    "**np.squeeze** - удаление измерения (оси). Удалить можно те оси, которые имеют один элемент. Таких может быть несколько, в таком случае удаляются все, если не указаные конкретные. "
   ]
  },
  {
   "cell_type": "code",
   "execution_count": 36,
   "metadata": {},
   "outputs": [
    {
     "name": "stdout",
     "output_type": "stream",
     "text": [
      "Исходное представление: \n",
      "[[1 2 3 4 5 6]\n",
      " [1 2 3 4 5 6]\n",
      " [1 2 3 4 5 6]]\n",
      "\n",
      "Представление после добавления двух осей с одним элементом в начало и в конец: \n",
      "[[[[1]\n",
      "   [2]\n",
      "   [3]\n",
      "   [4]\n",
      "   [5]\n",
      "   [6]]\n",
      "\n",
      "  [[1]\n",
      "   [2]\n",
      "   [3]\n",
      "   [4]\n",
      "   [5]\n",
      "   [6]]\n",
      "\n",
      "  [[1]\n",
      "   [2]\n",
      "   [3]\n",
      "   [4]\n",
      "   [5]\n",
      "   [6]]]]\n",
      "\n",
      "Представление после удаления единичных осей: \n",
      "[[1 2 3 4 5 6]\n",
      " [1 2 3 4 5 6]\n",
      " [1 2 3 4 5 6]]\n",
      "\n",
      "Представление после удаления последней единичной оси: \n",
      "[[[1 2 3 4 5 6]\n",
      "  [1 2 3 4 5 6]\n",
      "  [1 2 3 4 5 6]]]\n"
     ]
    }
   ],
   "source": [
    "arr = np.array([[1,2,3,4,5,6], [1,2,3,4,5,6], [1,2,3,4,5,6]])\n",
    "print(f'Исходное представление: \\n{arr}')\n",
    "n_arr = arr[np.newaxis, :, :, np.newaxis]\n",
    "print(f'\\nПредставление после добавления двух осей с одним элементом в начало и в конец: \\n{n_arr}')\n",
    "\n",
    "print(f'\\nПредставление после удаления единичных осей: \\n{n_arr.squeeze()}')\n",
    "\n",
    "print(f'\\nПредставление после удаления последней единичной оси: \\n{n_arr.squeeze(axis = 3)}')"
   ]
  },
  {
   "cell_type": "markdown",
   "metadata": {},
   "source": [
    "**np.vstack** - объединение массивов по нулевой оси (по вертикали). Объединяемые массивы должны иметь одинаковый размер вдоль всех осей, кроме нулевой (по которой происходит объединение). "
   ]
  },
  {
   "cell_type": "code",
   "execution_count": 59,
   "metadata": {},
   "outputs": [
    {
     "name": "stdout",
     "output_type": "stream",
     "text": [
      "Исходное представление 1-го массива: \n",
      "[[1 2 3 4 5 6]\n",
      " [1 2 3 4 5 6]\n",
      " [1 2 3 4 5 6]]\n",
      "\n",
      "Исходное представление 2-го массива: \n",
      "[[ 7  8  9 10 11 12]\n",
      " [ 7  8  9 10 11 12]]\n",
      "\n",
      "Объединение массива по нулевой оси (по вертикали): \n",
      "[[ 1  2  3  4  5  6]\n",
      " [ 1  2  3  4  5  6]\n",
      " [ 1  2  3  4  5  6]\n",
      " [ 7  8  9 10 11 12]\n",
      " [ 7  8  9 10 11 12]]\n"
     ]
    }
   ],
   "source": [
    "arr1 = np.array([[1,2,3,4,5,6], [1,2,3,4,5,6], [1,2,3,4,5,6]])\n",
    "arr2 = np.array([[7,8,9,10,11,12], [7,8,9,10,11,12]])\n",
    "\n",
    "print(f'Исходное представление 1-го массива: \\n{arr1}')\n",
    "print(f'\\nИсходное представление 2-го массива: \\n{arr2}')\n",
    "print(f'\\nОбъединение массива по нулевой оси (по вертикали): \\n{np.vstack([arr1, arr2])}')"
   ]
  },
  {
   "cell_type": "markdown",
   "metadata": {},
   "source": [
    "**np.hstack** - объединение массивов по первой оси (по горизонтали). У них должен быть одинаковый размер вдоль всех осей, кроме одной (первой). Работает аналогично ***np.vstack***"
   ]
  },
  {
   "cell_type": "code",
   "execution_count": 58,
   "metadata": {},
   "outputs": [
    {
     "name": "stdout",
     "output_type": "stream",
     "text": [
      "Исходное представление 1-го массива: \n",
      "[[1 2 3 4 5 6]\n",
      " [1 2 3 4 5 6]\n",
      " [1 2 3 4 5 6]]\n",
      "\n",
      "Исходное представление 2-го массива: \n",
      "[[ 7  8  9 10 11 12 13 14]\n",
      " [ 7  8  9 10 11 12 13 14]\n",
      " [ 7  8  9 10 11 12 13 14]]\n",
      "\n",
      "Объединение массива по нулевой оси (по вертикали): \n",
      "[[ 1  2  3  4  5  6  7  8  9 10 11 12 13 14]\n",
      " [ 1  2  3  4  5  6  7  8  9 10 11 12 13 14]\n",
      " [ 1  2  3  4  5  6  7  8  9 10 11 12 13 14]]\n"
     ]
    }
   ],
   "source": [
    "arr1 = np.array([[1,2,3,4,5,6], [1,2,3,4,5,6], [1,2,3,4,5,6]])\n",
    "arr2 = np.array([[7,8,9,10,11,12,13,14], [7,8,9,10,11,12,13,14], [7,8,9,10,11,12,13,14]])\n",
    "\n",
    "print(f'Исходное представление 1-го массива: \\n{arr1}')\n",
    "print(f'\\nИсходное представление 2-го массива: \\n{arr2}')\n",
    "print(f'\\nОбъединение массива по нулевой оси (по вертикали): \\n{np.hstack([arr1, arr2])}')"
   ]
  },
  {
   "cell_type": "markdown",
   "metadata": {},
   "source": [
    "**np.concatenate** - объединение по произвольной оси (указывается в аргументе axis). При этом для всех осей, кроме указанной, у массивов должно быть одинаковое число элементов."
   ]
  },
  {
   "cell_type": "code",
   "execution_count": 57,
   "metadata": {},
   "outputs": [
    {
     "name": "stdout",
     "output_type": "stream",
     "text": [
      "Исходное представление 1-го массива: \n",
      "[[1 2 3 4 5 6]\n",
      " [1 2 3 4 5 6]\n",
      " [1 2 3 4 5 6]]\n",
      "\n",
      "Исходное представление 2-го массива: \n",
      "[[ 7  8  9 10 11 12 13]\n",
      " [ 7  8  9 10 11 12 13]\n",
      " [ 7  8  9 10 11 12 13]]\n",
      "\n",
      "Объединение массива по нулевой оси (по вертикали): \n",
      "[[ 1  2  3  4  5  6  7  8  9 10 11 12 13]\n",
      " [ 1  2  3  4  5  6  7  8  9 10 11 12 13]\n",
      " [ 1  2  3  4  5  6  7  8  9 10 11 12 13]]\n"
     ]
    }
   ],
   "source": [
    "arr1 = np.array([[1,2,3,4,5,6], [1,2,3,4,5,6], [1,2,3,4,5,6]])\n",
    "arr2 = np.array([[7,8,9,10,11,12,13], [7,8,9,10,11,12,13], [7,8,9,10,11,12,13]])\n",
    "\n",
    "print(f'Исходное представление 1-го массива: \\n{arr1}')\n",
    "print(f'\\nИсходное представление 2-го массива: \\n{arr2}')\n",
    "print(f'\\nОбъединение массива по нулевой оси (по вертикали): \\n{np.concatenate([arr1, arr2], axis = 1)}')"
   ]
  },
  {
   "cell_type": "markdown",
   "metadata": {},
   "source": [
    "**np.array_split** - разделение массивов. Первым аргументом принимает массив, вторым - на сколько элементов он должен быть разделён. Аргумент axis - ось, по которой разделяется массив. Разделённый массив - это представление исходного, поэтому последующая замена элементов меняет их и в исходном массиве. "
   ]
  },
  {
   "cell_type": "code",
   "execution_count": 66,
   "metadata": {},
   "outputs": [
    {
     "name": "stdout",
     "output_type": "stream",
     "text": [
      "Исходное представление массива: \n",
      "[[1 2 3 4 5 6]\n",
      " [1 2 3 4 5 6]]\n",
      "\n",
      "Разделение массива на 3 части по 1-й оси: \n",
      "[array([[1, 2],\n",
      "       [1, 2]]), array([[3, 4],\n",
      "       [3, 4]]), array([[5, 6],\n",
      "       [5, 6]])]\n",
      "\n",
      "Разделение массива на 2 части по 0-й оси: \n",
      "[array([[1, 2, 3, 4, 5, 6]]), array([[1, 2, 3, 4, 5, 6]])]\n"
     ]
    }
   ],
   "source": [
    "arr1 = np.array([[1,2,3,4,5,6], [1,2,3,4,5,6]])\n",
    "print(f'Исходное представление массива: \\n{arr1}')\n",
    "print(f'\\nРазделение массива на 3 части по 1-й оси: \\n{np.array_split(arr1, 3, axis = 1)}')\n",
    "print(f'\\nРазделение массива на 2 части по 0-й оси: \\n{np.array_split(arr1, 2, axis = 0)}')"
   ]
  },
  {
   "cell_type": "markdown",
   "metadata": {},
   "source": [
    "### Добавление и удаление элементов"
   ]
  },
  {
   "cell_type": "markdown",
   "metadata": {},
   "source": [
    "**np.append** - добавление данных к массиву. Первый аргумент - массив, к которому добавляются элементы. Второй аргумент - массив, элементы которого добавляются к первому. Третий аргумент - ось, по которой происходит добавление элементов. Без указания третьего аргумента функция возвращает одномерный массив из всех элементов. \n",
    "\n",
    "Функция создаёт копию с новыми добавленными элементами, т.е. изменение исходных массивов не повлияет на новый. Количество элементов между массивами должно отличаться только по той оси, по которой добавляются элементы. "
   ]
  },
  {
   "cell_type": "code",
   "execution_count": 80,
   "metadata": {},
   "outputs": [
    {
     "name": "stdout",
     "output_type": "stream",
     "text": [
      "Исходное представление 1-го массива: \n",
      "[[1 2 3 4 5 6]\n",
      " [1 2 3 4 5 6]\n",
      " [1 2 3 4 5 6]]\n",
      "\n",
      "Исходное представление 2-го массива: \n",
      "[[ 7  8  9 10 11 12 13]\n",
      " [ 7  8  9 10 11 12 13]\n",
      " [ 7  8  9 10 11 12 13]]\n",
      "\n",
      "Объединение массива без указания оси: \n",
      "[ 1  2  3  4  5  6  1  2  3  4  5  6  1  2  3  4  5  6  7  8  9 10 11 12\n",
      " 13  7  8  9 10 11 12 13  7  8  9 10 11 12 13]\n",
      "\n",
      "Объединение массива по 1-й оси: \n",
      "[[ 1  2  3  4  5  6  7  8  9 10 11 12 13]\n",
      " [ 1  2  3  4  5  6  7  8  9 10 11 12 13]\n",
      " [ 1  2  3  4  5  6  7  8  9 10 11 12 13]]\n"
     ]
    }
   ],
   "source": [
    "arr1 = np.array([[1,2,3,4,5,6], [1,2,3,4,5,6], [1,2,3,4,5,6]])\n",
    "arr2 = np.array([[7,8,9,10,11,12,13], [7,8,9,10,11,12,13], [7,8,9,10,11,12,13]])\n",
    "\n",
    "print(f'Исходное представление 1-го массива: \\n{arr1}')\n",
    "print(f'\\nИсходное представление 2-го массива: \\n{arr2}')\n",
    "print(f'\\nОбъединение массива без указания оси: \\n{np.append(arr1, arr2)}')\n",
    "print(f'\\nОбъединение массива по 1-й оси: \\n{np.append(arr1, arr2, axis = 1)}')"
   ]
  },
  {
   "cell_type": "markdown",
   "metadata": {},
   "source": [
    "При необходимости множественного использования функционала объединения массивов оптимальнее не циклично применять метод append, а сначала расширить массив до нужного числа элементов. И после этого, через индекс указывать элемент, которым заменить \"нулевой\" из расширенной части исходного массива. \n",
    "Таким образом операция будет произведена намного быстрее. \n",
    "\n",
    "Т.е. ***append*** лучше использовать для разового, а не цикличного добавления элементов."
   ]
  },
  {
   "cell_type": "markdown",
   "metadata": {},
   "source": [
    "**np.delete** - удаление данных из массива. Первым аргументов принимает массив, из которого производится удаление. \n",
    "Второй аргумент - индекс элемента, который нужно удалить. Третий - ось, по которой производится удаление. \n",
    "\n",
    "При удалении элементов с помощью функции np.delete() можно:\n",
    "\n",
    "* передавать индекс элемента который нужно удалить: ***np.delete(..., 5, axis=...)***\n",
    "* передавать список или массив с индексами элементов которые нужно удалить: ***np.delete(..., [2, 4, 19], axis=...)***\n",
    "* передавать список или массив с булевыми значениями. Количество элементов в списке\\массиве с булевыми значениями должно совпадать с количеством элементов оси на которой удаляются элементы. Будут удалены элементы чей индекс равен индексам значений True: ***np.delete(..., [True, False, False], axis=...)***"
   ]
  },
  {
   "cell_type": "code",
   "execution_count": 91,
   "metadata": {},
   "outputs": [
    {
     "name": "stdout",
     "output_type": "stream",
     "text": [
      "Исходное представление массива: \n",
      "[[1 2 3 4 5 6]\n",
      " [1 2 3 4 5 6]\n",
      " [1 2 3 4 5 6]]\n",
      "\n",
      "Удаление 1-го элемента по 0-й оси \n",
      "[[1 2 3 4 5 6]\n",
      " [1 2 3 4 5 6]]\n",
      "\n",
      "Удаление 1-го элемента по 1-й оси \n",
      "[[1 3 4 5 6]\n",
      " [1 3 4 5 6]\n",
      " [1 3 4 5 6]]\n"
     ]
    }
   ],
   "source": [
    "arr1 = np.array([[1,2,3,4,5,6], [1,2,3,4,5,6], [1,2,3,4,5,6]])\n",
    "print(f'Исходное представление массива: \\n{arr1}')\n",
    "print(f'\\nУдаление 1-го элемента по 0-й оси \\n{np.delete(arr1, 1, axis = 0)}')\n",
    "print(f'\\nУдаление 1-го элемента по 1-й оси \\n{np.delete(arr1, 1, axis = 1)}')"
   ]
  },
  {
   "cell_type": "markdown",
   "metadata": {},
   "source": [
    "### Индексация массивов\n",
    "\n",
    "Срезы создают новое представление массива. \n",
    "Изменение значения в таком представлении меняет и исходный массив. "
   ]
  },
  {
   "cell_type": "code",
   "execution_count": 53,
   "metadata": {},
   "outputs": [
    {
     "name": "stdout",
     "output_type": "stream",
     "text": [
      "Исходное представление массива: \n",
      "[[1 2 3 4 5 6]\n",
      " [1 2 3 4 5 6]\n",
      " [1 2 3 4 5 6]]\n",
      "Представление с первыми двумя осями: \n",
      "[[1 2 3 4 5 6]\n",
      " [1 2 3 4 5 6]]\n",
      "Представление исходного массива после присвоения элементу (0,3) нового массива значения 10: \n",
      "[[ 1  2  3 10  5  6]\n",
      " [ 1  2  3  4  5  6]\n",
      " [ 1  2  3  4  5  6]]\n"
     ]
    }
   ],
   "source": [
    "arr1 = np.array([[1,2,3,4,5,6], [1,2,3,4,5,6], [1,2,3,4,5,6]])\n",
    "print(f'Исходное представление массива: \\n{arr1}')\n",
    "new_arr = arr1[0:2]\n",
    "print(f'Представление с первыми двумя осями: \\n{new_arr}')\n",
    "new_arr[0,3] = 10\n",
    "print(f'Представление исходного массива после присвоения элементу (0,3) нового массива значения 10: \\n{arr1}')"
   ]
  },
  {
   "cell_type": "markdown",
   "metadata": {},
   "source": [
    "При списочной индексации создаётся копия массива и его изменение не затронет исходный массив. "
   ]
  },
  {
   "cell_type": "code",
   "execution_count": 55,
   "metadata": {},
   "outputs": [
    {
     "name": "stdout",
     "output_type": "stream",
     "text": [
      "Исходное представление массива: \n",
      "[[1 2 3 4 5 6]\n",
      " [1 2 3 4 5 6]\n",
      " [1 2 3 4 5 6]]\n",
      "Представление с первыми двумя осями: \n",
      "[[1 2 3 4 5 6]\n",
      " [1 2 3 4 5 6]]\n",
      "Представление исходного массива после присвоения элементу (0,3) нового массива значения 10: \n",
      "[[1 2 3 4 5 6]\n",
      " [1 2 3 4 5 6]\n",
      " [1 2 3 4 5 6]]\n",
      "Представление нового массива после присвоения элементу (0,3) нового массива значения 10: \n",
      "[[ 1  2  3 10  5  6]\n",
      " [ 1  2  3  4  5  6]]\n"
     ]
    }
   ],
   "source": [
    "arr1 = np.array([[1,2,3,4,5,6], [1,2,3,4,5,6], [1,2,3,4,5,6]])\n",
    "print(f'Исходное представление массива: \\n{arr1}')\n",
    "new_arr = arr1[[0,1]]\n",
    "print(f'Представление с первыми двумя осями: \\n{new_arr}')\n",
    "new_arr[0,3] = 10\n",
    "print(f'Представление исходного массива после присвоения элементу (0,3) нового массива значения 10: \\n{arr1}')\n",
    "print(f'Представление нового массива после присвоения элементу (0,3) нового массива значения 10: \\n{new_arr}')"
   ]
  },
  {
   "cell_type": "markdown",
   "metadata": {},
   "source": [
    "Также при списочной индексации, если индексируется несколько осей, то можно выбрать конкретные элементы на каждой оси"
   ]
  },
  {
   "cell_type": "code",
   "execution_count": 66,
   "metadata": {},
   "outputs": [
    {
     "name": "stdout",
     "output_type": "stream",
     "text": [
      "Исходное представление массива: \n",
      "[[1 2 3 4 5 6]\n",
      " [1 2 3 4 5 6]\n",
      " [1 2 3 4 5 6]]\n",
      "\n",
      "Срез с элементами (2,3,5) для осей (0,1,2) соответственно:\n",
      "[3 4 6]\n",
      "\n",
      "Срез с элементами (2,3,5) для нулевой оси, (4,3,1) для первой оси и (1,5,1) для третьей оси:\n",
      "[[3 4 6]\n",
      " [5 4 2]\n",
      " [2 6 2]]\n"
     ]
    }
   ],
   "source": [
    "arr1 = np.array([[1,2,3,4,5,6], [1,2,3,4,5,6], [1,2,3,4,5,6]])\n",
    "print(f'Исходное представление массива: \\n{arr1}')\n",
    "print(f'\\nСрез с элементами (2,3,5) для осей (0,1,2) соответственно:')\n",
    "print(arr1[[0,1,2],[2,3,5]])\n",
    "print(f'\\nСрез с элементами (2,3,5) для нулевой оси, (4,3,1) для первой оси и (1,5,1) для третьей оси:')\n",
    "print(arr1[[0,1,2],[[2,3,5],[4,3,1],[1,5,1]]])"
   ]
  },
  {
   "cell_type": "markdown",
   "metadata": {},
   "source": [
    "### Математические операции между массивами\n",
    "\n",
    "Математические операции между массивами и числами, а также между массивами одного размера могут проводиться без ограничений."
   ]
  },
  {
   "cell_type": "code",
   "execution_count": 74,
   "metadata": {},
   "outputs": [
    {
     "name": "stdout",
     "output_type": "stream",
     "text": [
      "Исходное представление массива: \n",
      "[[1 2 3 4 5 6]\n",
      " [1 2 3 4 5 6]\n",
      " [1 2 3 4 5 6]]\n",
      "Представление исходного массива, прибавленное к 2: \n",
      "[[3 4 5 6 7 8]\n",
      " [3 4 5 6 7 8]\n",
      " [3 4 5 6 7 8]]\n",
      "Представление исходного массива, умноженное на 2: \n",
      "[[ 2  4  6  8 10 12]\n",
      " [ 2  4  6  8 10 12]\n",
      " [ 2  4  6  8 10 12]]\n",
      "Представление исходного массива в степени 2: \n",
      "[[ 1  4  9 16 25 36]\n",
      " [ 1  4  9 16 25 36]\n",
      " [ 1  4  9 16 25 36]]\n",
      "Исходное представление второго массива: \n",
      "[[1.e+01 2.e+01 3.e+01 4.e+01 5.e+01 6.e+01]\n",
      " [1.e+02 2.e+02 3.e+02 4.e+02 5.e+02 6.e+02]\n",
      " [1.e-01 2.e-01 3.e-01 4.e-01 5.e-01 6.e-01]]\n",
      "Представление умножения массивов: \n",
      "[[1.0e+01 4.0e+01 9.0e+01 1.6e+02 2.5e+02 3.6e+02]\n",
      " [1.0e+02 4.0e+02 9.0e+02 1.6e+03 2.5e+03 3.6e+03]\n",
      " [1.0e-01 4.0e-01 9.0e-01 1.6e+00 2.5e+00 3.6e+00]]\n"
     ]
    }
   ],
   "source": [
    "arr1 = np.array([[1,2,3,4,5,6], [1,2,3,4,5,6], [1,2,3,4,5,6]])\n",
    "print(f'Исходное представление массива: \\n{arr1}')\n",
    "print(f'Представление исходного массива, прибавленное к 2: \\n{arr1+2}')\n",
    "print(f'Представление исходного массива, умноженное на 2: \\n{arr1*2}')\n",
    "print(f'Представление исходного массива в степени 2: \\n{arr1**2}')\n",
    "\n",
    "arr2 = np.array([[10,20,30,40,50,60], [100,200,300,400,500,600], [0.1,0.2,0.3,0.4,0.5,0.6]])\n",
    "print(f'Исходное представление второго массива: \\n{arr2}')\n",
    "print(f'Представление умножения массивов: \\n{arr1*arr2}')"
   ]
  },
  {
   "cell_type": "markdown",
   "metadata": {},
   "source": [
    "Операции между массивами разного размера могут проводиться с помощью процедуры транслирования.\n",
    "\n",
    "Если массивы имеют разное количество осей, то: \n",
    "* К массиву с меньшим количеством добавляются новые, чтобы размерности совпали. Автоматически добавление происходит слева.\n",
    "* В массивах на соответствующих осяй должно быть одинаковое количество элементов, либо один элемент в одном из массивов (на одной из осей)."
   ]
  },
  {
   "cell_type": "code",
   "execution_count": 129,
   "metadata": {},
   "outputs": [
    {
     "name": "stdout",
     "output_type": "stream",
     "text": [
      "Исходное представление 1-го массива: \n",
      "[[1. 1. 1. 1. 1. 1.]\n",
      " [1. 1. 1. 1. 1. 1.]\n",
      " [1. 1. 1. 1. 1. 1.]]\n",
      "\n",
      "Исходное представление 2-го массива: \n",
      "[[1. 0. 0. 0. 0.]\n",
      " [0. 1. 0. 0. 0.]\n",
      " [0. 0. 1. 0. 0.]\n",
      " [0. 0. 0. 1. 0.]]\n"
     ]
    }
   ],
   "source": [
    "arr1 = np.ones([3,6])\n",
    "arr2 = np.eye(4,5)\n",
    "print(f'Исходное представление 1-го массива: \\n{arr1}')\n",
    "print(f'\\nИсходное представление 2-го массива: \\n{arr2}')"
   ]
  },
  {
   "cell_type": "markdown",
   "metadata": {},
   "source": [
    "Нельзя умножить массивы разной размерности напрямую: (3,6) и (4,5)\n",
    "\n",
    "Но можно изменить размерность одного из массивов, чтобы их можно было умножить.\n",
    "\n",
    "Наилучшее изменение зависит от конкретной задачи. "
   ]
  },
  {
   "cell_type": "code",
   "execution_count": 128,
   "metadata": {},
   "outputs": [
    {
     "name": "stdout",
     "output_type": "stream",
     "text": [
      "\n",
      "Допустимые произведения: \n",
      " - (3,6,1,1) и (4,5): \n",
      "\n",
      "[[[[1. 0. 0. 0. 0.]\n",
      "   [0. 1. 0. 0. 0.]\n",
      "   [0. 0. 1. 0. 0.]\n",
      "   [0. 0. 0. 1. 0.]]\n",
      "\n",
      "  [[1. 0. 0. 0. 0.]\n",
      "   [0. 1. 0. 0. 0.]\n",
      "   [0. 0. 1. 0. 0.]\n",
      "   [0. 0. 0. 1. 0.]]]\n",
      "\n",
      "\n",
      " [[[1. 0. 0. 0. 0.]\n",
      "   [0. 1. 0. 0. 0.]\n",
      "   [0. 0. 1. 0. 0.]\n",
      "   [0. 0. 0. 1. 0.]]\n",
      "\n",
      "  [[1. 0. 0. 0. 0.]\n",
      "   [0. 1. 0. 0. 0.]\n",
      "   [0. 0. 1. 0. 0.]\n",
      "   [0. 0. 0. 1. 0.]]]]\n",
      "\n",
      "- (3,6) и (4,5,1,1): \n",
      "\n",
      "[[[[1. 1. 1. 1. 1. 1.]\n",
      "   [1. 1. 1. 1. 1. 1.]\n",
      "   [1. 1. 1. 1. 1. 1.]]\n",
      "\n",
      "  [[0. 0. 0. 0. 0. 0.]\n",
      "   [0. 0. 0. 0. 0. 0.]\n",
      "   [0. 0. 0. 0. 0. 0.]]]\n",
      "\n",
      "\n",
      " [[[0. 0. 0. 0. 0. 0.]\n",
      "   [0. 0. 0. 0. 0. 0.]\n",
      "   [0. 0. 0. 0. 0. 0.]]\n",
      "\n",
      "  [[1. 1. 1. 1. 1. 1.]\n",
      "   [1. 1. 1. 1. 1. 1.]\n",
      "   [1. 1. 1. 1. 1. 1.]]]]\n",
      "\n",
      "- (1,3,6,1) и (4,1,1,5): \n",
      "\n",
      "[[[[1. 0. 0. 0. 0.]\n",
      "   [1. 0. 0. 0. 0.]\n",
      "   [1. 0. 0. 0. 0.]\n",
      "   [1. 0. 0. 0. 0.]\n",
      "   [1. 0. 0. 0. 0.]\n",
      "   [1. 0. 0. 0. 0.]]\n",
      "\n",
      "  [[1. 0. 0. 0. 0.]\n",
      "   [1. 0. 0. 0. 0.]\n",
      "   [1. 0. 0. 0. 0.]\n",
      "   [1. 0. 0. 0. 0.]\n",
      "   [1. 0. 0. 0. 0.]\n",
      "   [1. 0. 0. 0. 0.]]]\n",
      "\n",
      "\n",
      " [[[0. 1. 0. 0. 0.]\n",
      "   [0. 1. 0. 0. 0.]\n",
      "   [0. 1. 0. 0. 0.]\n",
      "   [0. 1. 0. 0. 0.]\n",
      "   [0. 1. 0. 0. 0.]\n",
      "   [0. 1. 0. 0. 0.]]\n",
      "\n",
      "  [[0. 1. 0. 0. 0.]\n",
      "   [0. 1. 0. 0. 0.]\n",
      "   [0. 1. 0. 0. 0.]\n",
      "   [0. 1. 0. 0. 0.]\n",
      "   [0. 1. 0. 0. 0.]\n",
      "   [0. 1. 0. 0. 0.]]]]\n"
     ]
    }
   ],
   "source": [
    "print(f'\\nДопустимые произведения: \\n - (3,6,1,1) и (4,5): \\n\\n{(arr1.reshape(3,6,1,1) * arr2)[:2, :2]}')\n",
    "print(f'\\n- (3,6) и (4,5,1,1): \\n\\n{(arr1*arr2.reshape(4,5,1,1))[:2, :2]}')\n",
    "print(f'\\n- (1,3,6,1) и (4,1,1,5): \\n\\n{(arr1.reshape(1,3,6,1)*arr2.reshape(4,1,1,5))[:2, :2]}')"
   ]
  },
  {
   "cell_type": "markdown",
   "metadata": {},
   "source": [
    "### Вычислительные функции\n",
    "\n",
    "**np.abs** - модуль числа. Если необходимо вернуть число типа ***float***, то используется функция **np.fabs**.\n",
    "\n",
    "**np.min, np.max** - минимальное и максимальное значения.\n",
    "\n",
    "**np.sqrt, np.square** - квадратный корень, и квадратная степень числа. \n",
    "\n",
    "**np.argmin, np.argmax** - индексы элементов, которые являются минимальными и максимальными значениями. \n",
    "\n",
    "**np.sum, np.mean, np.std** - сумма, средняя, стандартное отклонение элементов. \n",
    "\n",
    "**np.exp, np.log** - экспонента и натуральный логарифм элемента. \n",
    "\n",
    "**np.log2, np.log1p** - логарифм по основанию 2, и натуральный логарифм числа 1+x, соответственно.\n",
    "\n",
    "**np.sign** - определение знака числа. Возвращает -1, если знак отрицательный, 0 для нуля и 1 если положительный.\n",
    "\n",
    "**np.modf** - определение целой и дробной части числа. Возвращает два массива - массив целых чисел и массив дробных чисел.\n",
    "\n",
    "Функции можно применять как самостоятельные, либо как методы массива. Запись ***np.array.mean()*** эквивалентна записи ***np.mean(array)***."
   ]
  },
  {
   "cell_type": "code",
   "execution_count": 163,
   "metadata": {},
   "outputs": [
    {
     "name": "stdout",
     "output_type": "stream",
     "text": [
      "Исходное представление массива: \n",
      "[[1 2 3 4 5 6]\n",
      " [1 2 3 4 5 6]\n",
      " [1 2 3 4 5 6]]\n",
      "\n",
      "Среднее значение как метод массива arr1.mean(): 3.5\n",
      "Среднее значение функция с аргументом в виде массива: np.mean(arr1): 3.5\n"
     ]
    }
   ],
   "source": [
    "arr1 = np.array([[1,2,3,4,5,6], [1,2,3,4,5,6], [1,2,3,4,5,6]])\n",
    "print(f'Исходное представление массива: \\n{arr1}')\n",
    "print(f'\\nСреднее значение как метод массива arr1.mean(): {arr1.mean()}')\n",
    "print(f'Среднее значение функция с аргументом в виде массива: np.mean(arr1): {np.mean(arr1)}')"
   ]
  },
  {
   "cell_type": "markdown",
   "metadata": {},
   "source": [
    "В многомерном массиве функции агрегации могут применять относительной отдельных осей. "
   ]
  },
  {
   "cell_type": "code",
   "execution_count": 171,
   "metadata": {},
   "outputs": [
    {
     "name": "stdout",
     "output_type": "stream",
     "text": [
      "Исходное представление массива: \n",
      "[[ 1  2  3  4  5  6]\n",
      " [ 2  4  6  8 10 12]\n",
      " [ 3  6  9 12 15 18]]\n",
      "\n",
      "Суммы относительно 0-й оси: \n",
      "[ 6 12 18 24 30 36]\n",
      "\n",
      "Суммы относительно 1-й оси: \n",
      "[21 42 63]\n"
     ]
    }
   ],
   "source": [
    "arr1 = np.array([np.array([1,2,3,4,5,6]), np.array([1,2,3,4,5,6])*2, np.array([1,2,3,4,5,6])*3])\n",
    "\n",
    "print(f'Исходное представление массива: \\n{arr1}')\n",
    "print(f'\\nСуммы относительно 0-й оси: \\n{arr1.sum(axis = 0)}')\n",
    "print(f'\\nСуммы относительно 1-й оси: \\n{arr1.sum(axis = 1)}')"
   ]
  },
  {
   "cell_type": "code",
   "execution_count": 179,
   "metadata": {},
   "outputs": [
    {
     "name": "stdout",
     "output_type": "stream",
     "text": [
      "Исходное представление массива: \n",
      "[[[         0 1072693248]\n",
      "  [         0 1072693248]\n",
      "  [         0 1072693248]\n",
      "  [         0 1072693248]]\n",
      "\n",
      " [[         0 1072693248]\n",
      "  [         0 1072693248]\n",
      "  [         0 1072693248]\n",
      "  [         0 1072693248]]\n",
      "\n",
      " [[         0 1072693248]\n",
      "  [         0 1072693248]\n",
      "  [         0 1072693248]\n",
      "  [         0 1072693248]]]\n",
      "\n",
      "Суммы относительно 0-й оси: \n",
      "[[          0 -1076887552]\n",
      " [          0 -1076887552]\n",
      " [          0 -1076887552]\n",
      " [          0 -1076887552]]\n",
      "\n",
      "Суммы относительно 1-й оси: \n",
      "[[       0 -4194304]\n",
      " [       0 -4194304]\n",
      " [       0 -4194304]]\n",
      "\n",
      "Суммы относительно 0-й и 1-й оси: \n",
      "[        0 -12582912]\n",
      "\n",
      "Суммы относительно 1-й и 2-й оси: \n",
      "[-4194304 -4194304 -4194304]\n"
     ]
    }
   ],
   "source": [
    "arr1 = np.empty([3,4,2], dtype = np.int32)\n",
    "\n",
    "print(f'Исходное представление массива: \\n{arr1}')\n",
    "print(f'\\nСуммы относительно 0-й оси: \\n{arr1.sum(axis = 0)}')\n",
    "print(f'\\nСуммы относительно 1-й оси: \\n{arr1.sum(axis = 1)}')\n",
    "print(f'\\nСуммы относительно 0-й и 1-й оси: \\n{arr1.sum(axis = (0,1))}')\n",
    "print(f'\\nСуммы относительно 1-й и 2-й оси: \\n{arr1.sum(axis = (1,2))}')"
   ]
  },
  {
   "cell_type": "markdown",
   "metadata": {},
   "source": [
    "**np.cumsum, np.cumprod** - кумулятивная сумма и кумулятивное произведение элементов. По умолчанию операция выполняется над одномерным массивом или после приведения к нему. В аргументе axis может быть указано, относительно какой оси выполнять операцию.\n",
    "\n",
    "**np.ptp** - разница между максимальным и минимальным значениями в массиве. По умолчанию операция выполняется над одномерным массивом или после приведения к нему. В аргументе axis может быть указано, относительно какой оси выполнять операцию.\n",
    "\n",
    "**np.diff** - разница между соседними элементами массива. По умолчанию операция выполняется по последней оси (axis = -1). "
   ]
  },
  {
   "cell_type": "code",
   "execution_count": 28,
   "metadata": {},
   "outputs": [
    {
     "name": "stdout",
     "output_type": "stream",
     "text": [
      "Исходное представление массива: \n",
      "[[ 1  2  3  4  5  6]\n",
      " [ 2  4  6  8 10 12]\n",
      " [ 3  6  9 12 15 18]]\n",
      "\n",
      "Кумулятивная сумма по плоскому массиву: \n",
      "[  1   3   6  10  15  21  23  27  33  41  51  63  66  72  81  93 108 126]\n",
      "\n",
      "Кумулятивная сумма по нулевой оси: \n",
      "[[ 1  2  3  4  5  6]\n",
      " [ 3  6  9 12 15 18]\n",
      " [ 6 12 18 24 30 36]]\n",
      "\n",
      "Кумулятивная сумма по первой оси: \n",
      "[[ 1  3  6 10 15 21]\n",
      " [ 2  6 12 20 30 42]\n",
      " [ 3  9 18 30 45 63]]\n"
     ]
    }
   ],
   "source": [
    "arr1 = np.array([np.array([1,2,3,4,5,6]), np.array([1,2,3,4,5,6])*2, np.array([1,2,3,4,5,6])*3])\n",
    "\n",
    "print(f'Исходное представление массива: \\n{arr1}')\n",
    "print(f'\\nКумулятивная сумма по плоскому массиву: \\n{np.cumsum(arr1)}')\n",
    "print(f'\\nКумулятивная сумма по нулевой оси: \\n{np.cumsum(arr1, axis = 0)}')\n",
    "print(f'\\nКумулятивная сумма по первой оси: \\n{np.cumsum(arr1, axis = 1)}')"
   ]
  },
  {
   "cell_type": "code",
   "execution_count": 30,
   "metadata": {},
   "outputs": [
    {
     "name": "stdout",
     "output_type": "stream",
     "text": [
      "Исходное представление массива: \n",
      "[[ 1  2  3  4  5  6]\n",
      " [ 2  4  6  8 10 12]\n",
      " [ 3  6  9 12 15 18]]\n",
      "\n",
      "Разница мин-макс по плоскому массиву: \n",
      "17\n",
      "\n",
      "Разница мин-макс по нулевой оси: \n",
      "[ 2  4  6  8 10 12]\n",
      "\n",
      "Разница мин-макс по первой оси: \n",
      "[ 5 10 15]\n"
     ]
    }
   ],
   "source": [
    "arr1 = np.array([np.array([1,2,3,4,5,6]), np.array([1,2,3,4,5,6])*2, np.array([1,2,3,4,5,6])*3])\n",
    "\n",
    "print(f'Исходное представление массива: \\n{arr1}')\n",
    "print(f'\\nРазница мин-макс по плоскому массиву: \\n{np.ptp(arr1)}')\n",
    "print(f'\\nРазница мин-макс по нулевой оси: \\n{np.ptp(arr1, axis = 0)}')\n",
    "print(f'\\nРазница мин-макс по первой оси: \\n{np.ptp(arr1, axis = 1)}')"
   ]
  },
  {
   "cell_type": "code",
   "execution_count": 31,
   "metadata": {},
   "outputs": [
    {
     "name": "stdout",
     "output_type": "stream",
     "text": [
      "Исходное представление массива: \n",
      "[[ 1  2  3  4  5  6]\n",
      " [ 2  4  6  8 10 12]\n",
      " [ 3  6  9 12 15 18]]\n",
      "\n",
      "Разница мин-макс по плоскому массиву: \n",
      "[[1 1 1 1 1]\n",
      " [2 2 2 2 2]\n",
      " [3 3 3 3 3]]\n",
      "\n",
      "Разница мин-макс по нулевой оси: \n",
      "[[1 2 3 4 5 6]\n",
      " [1 2 3 4 5 6]]\n",
      "\n",
      "Разница мин-макс по первой оси: \n",
      "[[1 1 1 1 1]\n",
      " [2 2 2 2 2]\n",
      " [3 3 3 3 3]]\n"
     ]
    }
   ],
   "source": [
    "arr1 = np.array([np.array([1,2,3,4,5,6]), np.array([1,2,3,4,5,6])*2, np.array([1,2,3,4,5,6])*3])\n",
    "\n",
    "print(f'Исходное представление массива: \\n{arr1}')\n",
    "print(f'\\nРазница мин-макс по плоскому массиву: \\n{np.diff(arr1)}')\n",
    "print(f'\\nРазница мин-макс по нулевой оси: \\n{np.diff(arr1, axis = 0)}')\n",
    "print(f'\\nРазница мин-макс по первой оси: \\n{np.diff(arr1, axis = 1)}')"
   ]
  },
  {
   "cell_type": "markdown",
   "metadata": {},
   "source": [
    "**np.bincount** - расчёт частоты встречаемости каждого неотрицательного целого числа в массиве. Массив может содержать только неотрицательные целые числа. Применяется к одномерному массиву, либо должен быть предварительно приведён к нему. Выводит массив, содержащий число повторений целых значений между минимальным и максимальным в исходном массиве."
   ]
  },
  {
   "cell_type": "code",
   "execution_count": 54,
   "metadata": {},
   "outputs": [
    {
     "name": "stdout",
     "output_type": "stream",
     "text": [
      "Исходное представление массива: \n",
      "[[ 1  2  3  4  5  6]\n",
      " [ 2  4  6  8 10 12]\n",
      " [ 3  6  9 12 15 18]]\n",
      "\n",
      "Представление приведённого одномерного массива: \n",
      "[ 1  2  3  4  5  6  2  4  6  8 10 12  3  6  9 12 15 18]\n",
      "\n",
      "Сортированный массив: \n",
      "[ 1  2  2  3  3  4  4  5  6  6  6  8  9 10 12 12 15 18]\n",
      "\n",
      "Результат применения np.bincount: \n",
      "[0 1 2 2 2 1 3 0 1 1 1 0 2 0 0 1 0 0 1]\n"
     ]
    }
   ],
   "source": [
    "arr1 = np.array([np.array([1,2,3,4,5,6]), np.array([1,2,3,4,5,6])*2, np.array([1,2,3,4,5,6])*3])\n",
    "\n",
    "print(f'Исходное представление массива: \\n{arr1}')\n",
    "print(f'\\nПредставление приведённого одномерного массива: \\n{arr1.reshape(18)}')\n",
    "print(f'\\nСортированный массив: \\n{np.sort(arr1.reshape(18))}')\n",
    "print(f'\\nРезультат применения np.bincount: \\n{np.bincount(arr1.reshape(18))}')"
   ]
  },
  {
   "cell_type": "markdown",
   "metadata": {},
   "source": [
    "**np.sort** - сортировка массива. Первым аргументом принимает массив, который нужно отсортировать, вторым - ось, по которой производится сортировка. "
   ]
  },
  {
   "cell_type": "code",
   "execution_count": 9,
   "metadata": {},
   "outputs": [
    {
     "name": "stdout",
     "output_type": "stream",
     "text": [
      "Исходное представление массива: \n",
      "[[ 1  2  3  4  5  6]\n",
      " [ 3  6  9 12 15 18]\n",
      " [ 2  4  6  8 10 12]]\n",
      "\n",
      "Сортированный массив (по умолчанию сортировка по последней оси): \n",
      "[[ 1  2  3  4  5  6]\n",
      " [ 3  6  9 12 15 18]\n",
      " [ 2  4  6  8 10 12]]\n",
      "\n",
      "Сортировка по нулевой оси: \n",
      "[[ 1  2  3  4  5  6]\n",
      " [ 2  4  6  8 10 12]\n",
      " [ 3  6  9 12 15 18]]\n",
      "\n",
      "Сортировка плоского массива: \n",
      "[ 1  2  2  3  3  4  4  5  6  6  6  8  9 10 12 12 15 18]\n"
     ]
    }
   ],
   "source": [
    "arr1 = np.array([np.array([1,2,3,4,5,6]), np.array([1,2,3,4,5,6])*3, np.array([1,2,3,4,5,6])*2])\n",
    "print(f'Исходное представление массива: \\n{arr1}')\n",
    "print(f'\\nСортированный массив (по умолчанию сортировка по последней оси): \\n{np.sort(arr1)}')\n",
    "print(f'\\nСортировка по нулевой оси: \\n{np.sort(arr1, axis = 0)}')\n",
    "print(f'\\nСортировка плоского массива: \\n{np.sort(arr1, axis = None)}')"
   ]
  },
  {
   "cell_type": "markdown",
   "metadata": {},
   "source": [
    "**np.unique** - определение уникальных элементов массива. Опциональные параметры: \n",
    "* return_index: Если True, то также возвращает массив индексов первого вхождения уникальных элементов.\n",
    "* return_inverse: Если True, то также возвращает массив, который при использовании как индекс восстанавливает исходный массив.\n",
    "* return_counts: Если True, то также возвращает массив, содержащий количество вхождений каждого уникального элемента.\n",
    "* axis: Опциональный параметр, указывающий ось, по которой нужно найти уникальные элементы. Если не указан, поиск производится по всему массиву."
   ]
  },
  {
   "cell_type": "code",
   "execution_count": 19,
   "metadata": {},
   "outputs": [
    {
     "name": "stdout",
     "output_type": "stream",
     "text": [
      "Исходное представление массива: \n",
      "[[ 1  2  3  4  5  6]\n",
      " [ 3  6  9 12 15 18]\n",
      " [ 2  4  6  8 10 12]]\n",
      "\n",
      "Уникальные элементы массива: \n",
      "[ 1  2  3  4  5  6  8  9 10 12 15 18]\n",
      "\n",
      "Уникальные элементы массива с индексами их первого вхождения: \n",
      "(array([ 1,  2,  3,  4,  5,  6,  8,  9, 10, 12, 15, 18]), array([ 0,  1,  2,  3,  4,  5, 15,  8, 16,  9, 10, 11], dtype=int64))\n",
      "\n",
      "Уникальные элементы массива с индексами всех вхождений: \n",
      "(array([ 1,  2,  3,  4,  5,  6,  8,  9, 10, 12, 15, 18]), array([ 0,  1,  2,  3,  4,  5,  2,  5,  7,  9, 10, 11,  1,  3,  5,  6,  8,\n",
      "        9], dtype=int64))\n",
      "\n",
      "Уникальные элементы массива с количеством вхождений каждого элемента: \n",
      "(array([ 1,  2,  3,  4,  5,  6,  8,  9, 10, 12, 15, 18]), array([1, 2, 2, 2, 1, 3, 1, 1, 1, 2, 1, 1], dtype=int64))\n"
     ]
    }
   ],
   "source": [
    "arr1 = np.array([np.array([1,2,3,4,5,6]), np.array([1,2,3,4,5,6])*3, np.array([1,2,3,4,5,6])*2])\n",
    "print(f'Исходное представление массива: \\n{arr1}')\n",
    "print(f'\\nУникальные элементы массива: \\n{np.unique(arr1)}')\n",
    "\n",
    "print(f'\\nУникальные элементы массива с индексами их первого вхождения: \\n{np.unique(arr1, return_index = True)}')\n",
    "print(f'\\nУникальные элементы массива с индексами всех вхождений: \\n{np.unique(arr1, return_inverse = True)}')\n",
    "print(f'\\nУникальные элементы массива с количеством вхождений каждого элемента: \\n{np.unique(arr1, return_counts = True)}')"
   ]
  },
  {
   "cell_type": "markdown",
   "metadata": {},
   "source": [
    "### Функции округления\n",
    "\n",
    "**np.ceil** - вычисляет наименьшее целое число, не меньшее каждого элемента массива (округление по верхней границе).\n",
    "\n",
    "**np.floor** - вычисляет наибольшее целое число, не большее каждого элемента массива (округление по нижней границе).\n",
    "\n",
    "**np.rint** - округляет элементы массива до ближайшего целого числа, используя правило \"банковского\" округления. В банковском округлении дробная часть, равная 0.5 в чётных числах округляется в меньшую сторону, в нечётных - в большую.\n",
    "\n",
    "**np.round** - округление с указанием разрядности. Если разрядность равна нулю, результат совпадает с результатом функции **np.rint**.\n",
    "\n",
    "**np.trunc** - округление до ближайшего целого числа. "
   ]
  },
  {
   "cell_type": "code",
   "execution_count": 32,
   "metadata": {},
   "outputs": [
    {
     "name": "stdout",
     "output_type": "stream",
     "text": [
      "Исходный массив: \n",
      "[2.3 2.5 3.7 1.6 4.9 3.5]\n",
      "\n",
      "Округление по верхней границе: \n",
      "[3. 3. 4. 2. 5. 4.]\n",
      "\n",
      "Округление по нижней границе: \n",
      "[2. 2. 3. 1. 4. 3.]\n",
      "\n",
      "Округление до ближайшего целого методом np.rint: \n",
      "[2. 2. 4. 2. 5. 4.]\n",
      "\n",
      "Округление с указанием разрядности (равна нулю): \n",
      "[2. 2. 4. 2. 5. 4.]\n",
      "\n",
      "Округление до ближайшего целого методом np.trunc: \n",
      "[2. 2. 3. 1. 4. 3.]\n"
     ]
    }
   ],
   "source": [
    "arr1 = np.array([2.3, 2.5, 3.7, 1.6, 4.9, 3.5])\n",
    "print(f'Исходный массив: \\n{arr1}')\n",
    "print(f'\\nОкругление по верхней границе: \\n{np.ceil(arr1)}')\n",
    "print(f'\\nОкругление по нижней границе: \\n{np.floor(arr1)}')\n",
    "print(f'\\nОкругление до ближайшего целого методом np.rint: \\n{np.rint(arr1)}')\n",
    "print(f'\\nОкругление с указанием разрядности (равна нулю): \\n{np.round(arr1, 0)}')\n",
    "print(f'\\nОкругление до ближайшего целого методом np.trunc: \\n{np.trunc(arr1)}')"
   ]
  },
  {
   "cell_type": "markdown",
   "metadata": {},
   "source": [
    "### Проверка условий\n",
    "\n",
    "**np.isin** - проверка на вхождение значениий одного массива в другом. Первым аргументом принимает значения массива, наличие которых проверяется (IS). Вторым аргументом - массив, в котором ищутся эти значения (IN). \n",
    "\n",
    "**np.isnan** - проверка на отсутствие значения в массиве. \n",
    "\n",
    "**np.isfinite** - проверка на конечность значений в массиве. \n",
    "\n",
    "**np.isinf** - проверка на бесконечность значений в массиве. "
   ]
  },
  {
   "cell_type": "code",
   "execution_count": 39,
   "metadata": {},
   "outputs": [
    {
     "name": "stdout",
     "output_type": "stream",
     "text": [
      "Исходный массив: \n",
      "[2.3 2.5 nan 1.6 inf 3.5]\n",
      "\n",
      "Проверка значений: \n",
      "[1.  3.5]\n",
      "\n",
      "Проверка на вхождение значений: \n",
      "[False False False False False  True]\n",
      "\n",
      "Проверка на отсутствующие значения: \n",
      "[False False  True False False False]\n",
      "\n",
      "Проверка на конечность значений: \n",
      "[ True  True False  True False  True]\n",
      "\n",
      "Проверка на бесконечность значений: \n",
      "[False False False False  True False]\n"
     ]
    }
   ],
   "source": [
    "arr1 = np.array([2.3, 2.5, np.nan, 1.6, np.inf, 3.5])\n",
    "arr2 = np.array([1, 3.5])\n",
    "\n",
    "print(f'Исходный массив: \\n{arr1}')\n",
    "print(f'\\nПроверка значений: \\n{arr2}')\n",
    "\n",
    "print(f'\\nПроверка на вхождение значений: \\n{np.isin(arr1, arr2)}')\n",
    "\n",
    "print(f'\\nПроверка на отсутствующие значения: \\n{np.isnan(arr1)}')\n",
    "\n",
    "print(f'\\nПроверка на конечность значений: \\n{np.isfinite(arr1)}')\n",
    "\n",
    "print(f'\\nПроверка на бесконечность значений: \\n{np.isinf(arr1)}')"
   ]
  },
  {
   "cell_type": "markdown",
   "metadata": {},
   "source": [
    "### Вычислительные функции между массивами (бинарные операции)\n",
    "\n",
    "**np.add** - поэлементное сложение массивов. \n",
    "\n",
    "**np.subtract** - вычитание поэлементно значений массива, переданного вторым аргументом, из значений массива, переданного первым.\n",
    "\n",
    "**np.multiply** - поэлементное произведение массивов.\n",
    "\n",
    "**np.divide** - поэлементное деление элементов, переданных в массиве в первом аргументе, на элементы массива, переданного вторым аргументом. \n",
    "\n",
    "**np.floor_divide** - аналог функции **np.divide**, но с округлением до наименьшего целого.\n",
    "\n",
    "**np.power** - возведение элементов из первого массива в степени, указанные во втором массиве."
   ]
  },
  {
   "cell_type": "code",
   "execution_count": 24,
   "metadata": {},
   "outputs": [
    {
     "name": "stdout",
     "output_type": "stream",
     "text": [
      "Исходный массив 1: [2.3 2.5 3.7 1.6 4.9 3.5]\n",
      "Исходный массив 2: [2.  3.  1.5 2.  5.  3. ]\n",
      "\n",
      "Сложение массивов через np.add: [4.3 5.5 5.2 3.6 9.9 6.5]\n",
      "\n",
      "Вычитание массивов через np.subtract: [ 0.3 -0.5  2.2 -0.4 -0.1  0.5]\n",
      "\n",
      "Умножение массивов через np.multiply: [ 4.6   7.5   5.55  3.2  24.5  10.5 ]\n",
      "\n",
      "Деление массивов через np.divide: [1.15       0.83333333 2.46666667 0.8        0.98       1.16666667]\n",
      "\n",
      "Деление массивов через np.floor_divide: [1. 0. 2. 0. 0. 1.]\n",
      "\n",
      "Возведение массивов в степень: \n",
      "[5.29000000e+00 1.56250000e+01 7.11709210e+00 2.56000000e+00\n",
      " 2.82475249e+03 4.28750000e+01]\n"
     ]
    }
   ],
   "source": [
    "arr1 = np.array([2.3, 2.5, 3.7, 1.6, 4.9, 3.5])\n",
    "arr2 = np.array([2, 3, 1.5, 2, 5, 3])\n",
    "\n",
    "print(f'Исходный массив 1: {arr1}')\n",
    "print(f'Исходный массив 2: {arr2}')\n",
    "\n",
    "print(f'\\nСложение массивов через np.add: {np.add(arr1, arr2)}')\n",
    "print(f'\\nВычитание массивов через np.subtract: {np.subtract(arr1, arr2)}')\n",
    "print(f'\\nУмножение массивов через np.multiply: {np.multiply(arr1, arr2)}')\n",
    "print(f'\\nДеление массивов через np.divide: {np.divide(arr1, arr2)}')\n",
    "print(f'\\nДеление массивов через np.floor_divide: {np.floor_divide(arr1, arr2)}')\n",
    "print(f'\\nВозведение массивов в степень: \\n{np.power(arr1, arr2)}')"
   ]
  },
  {
   "cell_type": "markdown",
   "metadata": {},
   "source": [
    "**np.maximum** - возвращает поэлементный максимум двух массивов. \n",
    "\n",
    "**np.fmax** - аналогично **np.maximum**, но игнорируя отсутствующие значения NaN.\n",
    "\n",
    "**np.minimum** - возвращает поэлементный минимум двух массивов. \n",
    "\n",
    "**np.fmin** - аналогично **np.minimum**, но игнорируя отсутствующие значения NaN."
   ]
  },
  {
   "cell_type": "code",
   "execution_count": 29,
   "metadata": {},
   "outputs": [
    {
     "name": "stdout",
     "output_type": "stream",
     "text": [
      "Исходный массив 1: [2.3 2.5 3.7 1.6 nan 3.5]\n",
      "Исходный массив 2: [ 2.  3. nan  2.  5.  3.]\n",
      "\n",
      "Определение максимума через np.maximum: [2.3 3.  nan 2.  nan 3.5]\n",
      "\n",
      "Определение максимума через np.fmax: [2.3 3.  3.7 2.  5.  3.5]\n",
      "\n",
      "Определение минимума через np.minimum: [2.3 3.  nan 2.  nan 3.5]\n",
      "\n",
      "Определение минимума через np.fmin: [2.3 3.  3.7 2.  5.  3.5]\n"
     ]
    }
   ],
   "source": [
    "arr1 = np.array([2.3, 2.5, 3.7, 1.6, np.nan, 3.5])\n",
    "arr2 = np.array([2, 3, np.nan, 2, 5, 3])\n",
    "\n",
    "print(f'Исходный массив 1: {arr1}')\n",
    "print(f'Исходный массив 2: {arr2}')\n",
    "\n",
    "print(f'\\nОпределение максимума через np.maximum: {np.maximum(arr1, arr2)}')\n",
    "print(f'\\nОпределение максимума через np.fmax: {np.fmax(arr1, arr2)}')\n",
    "\n",
    "print(f'\\nОпределение минимума через np.minimum: {np.maximum(arr1, arr2)}')\n",
    "print(f'\\nОпределение минимума через np.fmin: {np.fmax(arr1, arr2)}')"
   ]
  },
  {
   "cell_type": "markdown",
   "metadata": {},
   "source": [
    "**np.mod** - вычисляет остаток от деления элементов первого массива на соответствующие элементы второго массива (либо заданнаго числа). "
   ]
  },
  {
   "cell_type": "code",
   "execution_count": 30,
   "metadata": {},
   "outputs": [
    {
     "name": "stdout",
     "output_type": "stream",
     "text": [
      "Исходный массив 1: [2.3 2.5 3.7 1.6 4.9 3.5]\n",
      "Исходный массив 2: [2.  3.  1.5 2.  5.  3. ]\n",
      "\n",
      "Остаток от деления первого массива на второй: [0.3 2.5 0.7 1.6 4.9 0.5]\n",
      "\n",
      "Остаток от деления первого массива на 3: [2.3 2.5 0.7 1.6 1.9 0.5]\n"
     ]
    }
   ],
   "source": [
    "arr1 = np.array([2.3, 2.5, 3.7, 1.6, 4.9, 3.5])\n",
    "arr2 = np.array([2, 3, 1.5, 2, 5, 3])\n",
    "\n",
    "print(f'Исходный массив 1: {arr1}')\n",
    "print(f'Исходный массив 2: {arr2}')\n",
    "\n",
    "print(f'\\nОстаток от деления первого массива на второй: {np.mod(arr1, arr2)}')\n",
    "print(f'\\nОстаток от деления первого массива на 3: {np.mod(arr1, 3)}')"
   ]
  },
  {
   "cell_type": "markdown",
   "metadata": {},
   "source": [
    "**np.copysign** - копирует знак значения из второго массива в значения первого массива."
   ]
  },
  {
   "cell_type": "code",
   "execution_count": 31,
   "metadata": {},
   "outputs": [
    {
     "name": "stdout",
     "output_type": "stream",
     "text": [
      "Исходный массив 1: [2.3 2.5 3.7 1.6 4.9 3.5]\n",
      "Исходный массив 2: [ 2.  -3.  -1.5  2.   5.  -3. ]\n",
      "\n",
      "Копирование знака второго массива в 1-й: [ 2.3 -2.5 -3.7  1.6  4.9 -3.5]\n"
     ]
    }
   ],
   "source": [
    "arr1 = np.array([2.3, 2.5, 3.7, 1.6, 4.9, 3.5])\n",
    "arr2 = np.array([2, -3, -1.5, 2, 5, -3])\n",
    "\n",
    "print(f'Исходный массив 1: {arr1}')\n",
    "print(f'Исходный массив 2: {arr2}')\n",
    "\n",
    "print(f'\\nКопирование знака второго массива в 1-й: {np.copysign(arr1, arr2)}')"
   ]
  },
  {
   "cell_type": "markdown",
   "metadata": {},
   "source": [
    "### Генерация случайных чисел\n",
    "\n",
    "**np.random.rand()** - создаёт число или массив из равномерного распределения от 0 до 1. Если передавать в функцию несколько чисел, то это будет массив соответствующей размерности."
   ]
  },
  {
   "cell_type": "code",
   "execution_count": 13,
   "metadata": {},
   "outputs": [
    {
     "name": "stdout",
     "output_type": "stream",
     "text": [
      "Функция без аргументов возращает одно число: 0.5065376904556314\n",
      "\n",
      "Функция с одним аргументом возвращает одномерный массив соответствующего размера: \n",
      "[0.9359608  0.68075262 0.8961514  0.0478863  0.63579677]\n",
      "\n",
      "Функция с несколькими аргументами возвращает массив соответствующей размерности: \n",
      "[[0.78978876 0.73143118 0.89196062]\n",
      " [0.10530297 0.78065903 0.03526031]\n",
      " [0.31614984 0.00101542 0.23177978]\n",
      " [0.22225891 0.86960196 0.97408733]\n",
      " [0.40294204 0.47107096 0.26630465]]\n"
     ]
    }
   ],
   "source": [
    "print(f'Функция без аргументов возращает одно число: {np.random.rand()}')\n",
    "print(f'\\nФункция с одним аргументом возвращает одномерный массив соответствующего размера: \\n{np.random.rand(5)}')\n",
    "\n",
    "print(f'\\nФункция с несколькими аргументами возвращает массив соответствующей размерности: \\n{np.random.rand(5,3)}')"
   ]
  },
  {
   "cell_type": "markdown",
   "metadata": {},
   "source": [
    "**np.random.randn()** - создаёт число или массив из стандартного нормального распределения. "
   ]
  },
  {
   "cell_type": "code",
   "execution_count": 14,
   "metadata": {},
   "outputs": [
    {
     "name": "stdout",
     "output_type": "stream",
     "text": [
      "Функция без аргументов возращает одно число: 0.9861779138652399\n",
      "\n",
      "Функция с одним аргументом возвращает одномерный массив соответствующего размера: \n",
      "[ 1.36415429 -0.7498241   0.12447417 -0.11397631  0.47836857]\n",
      "\n",
      "Функция с несколькими аргументами возвращает массив соответствующей размерности: \n",
      "[[-1.6173615   0.85325236 -0.36372279]\n",
      " [-0.06410108  0.01150829  0.61464558]\n",
      " [ 0.98104057  0.1645479   0.18062994]\n",
      " [ 0.83738092  2.55367494  0.23160664]\n",
      " [ 2.78992351  1.89568065  1.17281768]]\n"
     ]
    }
   ],
   "source": [
    "print(f'Функция без аргументов возращает одно число: {np.random.randn()}')\n",
    "print(f'\\nФункция с одним аргументом возвращает одномерный массив соответствующего размера: \\n{np.random.randn(5)}')\n",
    "\n",
    "print(f'\\nФункция с несколькими аргументами возвращает массив соответствующей размерности: \\n{np.random.randn(5,3)}')"
   ]
  },
  {
   "cell_type": "markdown",
   "metadata": {},
   "source": [
    "**np.random.normal()** - создаёт число или массив из нормального распределения с заданным средним и стандартным отклонением. Первые два аргумента - среднее и стандартное отклонение. Третий аргумент - число или список, отвечающий за размерность массива. \n",
    "\n",
    "*Функция без аргументов* возращает одно число из стандартного нормального распределения:"
   ]
  },
  {
   "cell_type": "code",
   "execution_count": 28,
   "metadata": {},
   "outputs": [
    {
     "data": {
      "text/plain": [
       "-1.1110181198631675"
      ]
     },
     "execution_count": 28,
     "metadata": {},
     "output_type": "execute_result"
    }
   ],
   "source": [
    "np.random.normal()"
   ]
  },
  {
   "cell_type": "markdown",
   "metadata": {},
   "source": [
    "_Функция с одним аргументом_ возвращает одно число из нормального распределения со средним, равным указанному числу и стандартным отклонением 1:"
   ]
  },
  {
   "cell_type": "code",
   "execution_count": 29,
   "metadata": {},
   "outputs": [
    {
     "data": {
      "text/plain": [
       "5.4429413414471615"
      ]
     },
     "execution_count": 29,
     "metadata": {},
     "output_type": "execute_result"
    }
   ],
   "source": [
    "np.random.normal(5)"
   ]
  },
  {
   "cell_type": "markdown",
   "metadata": {},
   "source": [
    "*Функция с двумя аргументами* возвращает одно число из нормального распределения с указанным средним и стандартным отклонением:"
   ]
  },
  {
   "cell_type": "code",
   "execution_count": 30,
   "metadata": {},
   "outputs": [
    {
     "data": {
      "text/plain": [
       "2.9242052808740255"
      ]
     },
     "execution_count": 30,
     "metadata": {},
     "output_type": "execute_result"
    }
   ],
   "source": [
    "np.random.normal(5,3)"
   ]
  },
  {
   "cell_type": "markdown",
   "metadata": {},
   "source": [
    "*Функция с тремя аргументами* возвращает массив из нормального распределения с указанным средним и стандартным отклонением, где третье число - размерность массива."
   ]
  },
  {
   "cell_type": "code",
   "execution_count": 31,
   "metadata": {},
   "outputs": [
    {
     "data": {
      "text/plain": [
       "array([ 4.7632117 ,  6.90654486,  9.52804867,  5.80812063, 10.02797134,\n",
       "        3.11509931,  3.85131623,  3.85269392,  1.24024069,  5.28146386])"
      ]
     },
     "execution_count": 31,
     "metadata": {},
     "output_type": "execute_result"
    }
   ],
   "source": [
    "np.random.normal(5,3, 10)"
   ]
  },
  {
   "cell_type": "code",
   "execution_count": 36,
   "metadata": {},
   "outputs": [
    {
     "data": {
      "text/plain": [
       "array([[8.28030603, 1.3171138 , 8.21491967, 0.98165249, 4.0669157 ],\n",
       "       [3.20800053, 8.06215585, 8.49614106, 0.6196539 , 0.18188826],\n",
       "       [7.5170297 , 4.52098022, 2.61248394, 0.84318576, 9.91701045],\n",
       "       [0.72997504, 3.64108515, 4.59055941, 4.24707943, 7.64811376],\n",
       "       [5.1760886 , 9.38316921, 2.50568159, 4.99313287, 7.9697383 ]])"
      ]
     },
     "execution_count": 36,
     "metadata": {},
     "output_type": "execute_result"
    }
   ],
   "source": [
    "np.random.normal(5,3, [5,5])"
   ]
  },
  {
   "cell_type": "markdown",
   "metadata": {},
   "source": [
    "**np.random.randint()** - число или массив из дискретного равномерного распределения. По умолчанию распределение начинается от нуля. Первый аргумент - последнее значение не включительно. Второй аргумент - начало распределения. Третий аргумент (size) отвечает за размерность, принимает число, список или кортеж."
   ]
  },
  {
   "cell_type": "code",
   "execution_count": 39,
   "metadata": {},
   "outputs": [
    {
     "data": {
      "text/plain": [
       "4"
      ]
     },
     "execution_count": 39,
     "metadata": {},
     "output_type": "execute_result"
    }
   ],
   "source": [
    "np.random.randint(10)"
   ]
  },
  {
   "cell_type": "code",
   "execution_count": 40,
   "metadata": {},
   "outputs": [
    {
     "data": {
      "text/plain": [
       "8"
      ]
     },
     "execution_count": 40,
     "metadata": {},
     "output_type": "execute_result"
    }
   ],
   "source": [
    "np.random.randint(5,10)"
   ]
  },
  {
   "cell_type": "code",
   "execution_count": 41,
   "metadata": {},
   "outputs": [
    {
     "data": {
      "text/plain": [
       "array([6, 6, 7, 7, 6, 5, 9, 6, 7, 7])"
      ]
     },
     "execution_count": 41,
     "metadata": {},
     "output_type": "execute_result"
    }
   ],
   "source": [
    "np.random.randint(5,10,10)"
   ]
  },
  {
   "cell_type": "code",
   "execution_count": 42,
   "metadata": {},
   "outputs": [
    {
     "data": {
      "text/plain": [
       "array([[9, 5, 5, 5, 5],\n",
       "       [7, 8, 9, 6, 8],\n",
       "       [6, 9, 6, 7, 9],\n",
       "       [7, 8, 9, 5, 6],\n",
       "       [9, 6, 9, 6, 6]])"
      ]
     },
     "execution_count": 42,
     "metadata": {},
     "output_type": "execute_result"
    }
   ],
   "source": [
    "np.random.randint(5,10,[5,5])"
   ]
  },
  {
   "cell_type": "markdown",
   "metadata": {},
   "source": [
    "**np.random.multivariate_normal** - генерация выборок из многомерного нормального распределения, где N - мерность пространства случайных величин. Необходимо указать:\n",
    "* m - вектор математических ожиданий (размерности N);\n",
    "* cov - матрицу ковариаций (размерности NxN);\n",
    "* N - объём выборки.\n",
    "\n",
    "Двумерная нормально распределённая случайная величина со средними значениями (5, 5) и корреляцией, равной 0,5."
   ]
  },
  {
   "cell_type": "code",
   "execution_count": 111,
   "metadata": {},
   "outputs": [
    {
     "data": {
      "text/plain": [
       "array([[4.19661981, 3.81543714],\n",
       "       [4.5183844 , 4.79787163],\n",
       "       [5.57584871, 5.26547092],\n",
       "       [3.19510536, 5.16564858],\n",
       "       [3.2978313 , 3.5206983 ],\n",
       "       [6.26265309, 6.26371523],\n",
       "       [4.68281611, 6.12956153],\n",
       "       [5.25039127, 5.50900017],\n",
       "       [6.61201311, 5.31855565],\n",
       "       [5.5491933 , 5.85467909]])"
      ]
     },
     "execution_count": 111,
     "metadata": {},
     "output_type": "execute_result"
    }
   ],
   "source": [
    "np.random.multivariate_normal([5,5], [[1,0.5], [0.5,1]], 10)"
   ]
  },
  {
   "cell_type": "code",
   "execution_count": 107,
   "metadata": {},
   "outputs": [
    {
     "data": {
      "text/plain": [
       "0.8491437764148063"
      ]
     },
     "execution_count": 107,
     "metadata": {},
     "output_type": "execute_result"
    }
   ],
   "source": [
    "arr = np.random.multivariate_normal([5,5], [[1,0.5], [0.5,1]], 10)\n",
    "np.corrcoef(arr[:,0], arr[:,1])[0,1]"
   ]
  },
  {
   "cell_type": "markdown",
   "metadata": {},
   "source": [
    "Если в объёме выборки вместо числа будет указан кортеж, то его первое число будет означать номер наблюдения, второе - число дополнительных случайных величин с теми же параметрами."
   ]
  },
  {
   "cell_type": "markdown",
   "metadata": {},
   "source": [
    "**np.random.choice()** - получение указанного количества элементов из массива, выбранных случайным образом. Первый аргумент - массив, откуда элементы выбираются. Второй - число значений. "
   ]
  },
  {
   "cell_type": "code",
   "execution_count": 43,
   "metadata": {},
   "outputs": [
    {
     "data": {
      "text/plain": [
       "array([3.99198900e+00, 3.77040023e+00, 3.43751496e-03])"
      ]
     },
     "execution_count": 43,
     "metadata": {},
     "output_type": "execute_result"
    }
   ],
   "source": [
    "np.random.choice(np.random.normal(5,3,10), 3)"
   ]
  },
  {
   "cell_type": "code",
   "execution_count": 44,
   "metadata": {},
   "outputs": [
    {
     "data": {
      "text/plain": [
       "array([1, 5, 3])"
      ]
     },
     "execution_count": 44,
     "metadata": {},
     "output_type": "execute_result"
    }
   ],
   "source": [
    "np.random.choice(np.array([1,2,3,4,5,6]), 3)"
   ]
  },
  {
   "cell_type": "markdown",
   "metadata": {},
   "source": [
    "**np.random.shuffle()** - перемешивание массива вдоль нулевой оси. Функция меняет порядок элементов в массиве. \n",
    "\n",
    "**np.random.permutation()** - работает аналогично ***shuffle***, но возвращает новый массив, не меняя исходный."
   ]
  },
  {
   "cell_type": "code",
   "execution_count": 69,
   "metadata": {},
   "outputs": [
    {
     "name": "stdout",
     "output_type": "stream",
     "text": [
      "Исходное представление массива: \n",
      "[[ 1  2  3  4  5  6]\n",
      " [ 2  4  6  8 10 12]\n",
      " [ 3  6  9 12 15 18]]\n",
      "\n",
      "Представление массива после перемешивания shuffle: \n",
      "[[ 1  2  3  4  5  6]\n",
      " [ 3  6  9 12 15 18]\n",
      " [ 2  4  6  8 10 12]]\n",
      "\n",
      "Применение перемешивания permutation: \n",
      "[[ 2  4  6  8 10 12]\n",
      " [ 1  2  3  4  5  6]\n",
      " [ 3  6  9 12 15 18]]\n",
      "\n",
      "Представление массива после перемешивания permutation: \n",
      "[[ 1  2  3  4  5  6]\n",
      " [ 3  6  9 12 15 18]\n",
      " [ 2  4  6  8 10 12]]\n"
     ]
    }
   ],
   "source": [
    "arr1 = np.array([np.array([1,2,3,4,5,6]), np.array([1,2,3,4,5,6])*2, np.array([1,2,3,4,5,6])*3])\n",
    "print(f'Исходное представление массива: \\n{arr1}')\n",
    "np.random.shuffle(arr1)\n",
    "print(f'\\nПредставление массива после перемешивания shuffle: \\n{arr1}')\n",
    "print(f'\\nПрименение перемешивания permutation: \\n{np.random.permutation(arr1)}')\n",
    "print(f'\\nПредставление массива после перемешивания permutation: \\n{arr1}')"
   ]
  },
  {
   "cell_type": "markdown",
   "metadata": {},
   "source": [
    "**np.random.seed()** - выбор одного сценария генерации случайных значений, для обеспечения воспроизводимости. В аргументе может быть указано любое число. После этой функции могут выполняться другие команды, связанные со случайными значениями и они не будут меняться. "
   ]
  },
  {
   "cell_type": "code",
   "execution_count": 55,
   "metadata": {},
   "outputs": [
    {
     "data": {
      "text/plain": [
       "array([0.40768703, 0.05536604, 0.78853488])"
      ]
     },
     "execution_count": 55,
     "metadata": {},
     "output_type": "execute_result"
    }
   ],
   "source": [
    "np.random.seed(40)\n",
    "np.random.rand(3)"
   ]
  },
  {
   "cell_type": "markdown",
   "metadata": {},
   "source": [
    "### Операции сравнения\n",
    "\n",
    "Операции сравнения в массивах проводятся поэлементно. Для задания условия сравнения можно использовать оператор сравнения или соответствующую функцию ***numpy***:\n",
    "* \">\" = np.greater\n",
    "* \">=\" = np.greater_equal\n",
    "* \"<\" = np.less\n",
    "* \"<=\" = np.less_equal\n",
    "* \"==\" = np.equal\n",
    "* \"!=\" = np.not_equal"
   ]
  },
  {
   "cell_type": "code",
   "execution_count": 93,
   "metadata": {},
   "outputs": [
    {
     "name": "stdout",
     "output_type": "stream",
     "text": [
      "Исходное представление массива: \n",
      "[[ 1  2  3  4  5  6]\n",
      " [ 2  4  6  8 10 12]\n",
      " [ 3  6  9 12 15 18]]\n",
      "Сравнение по условию >= 5: \n",
      "[[False False False False  True  True]\n",
      " [False False  True  True  True  True]\n",
      " [False  True  True  True  True  True]]\n",
      "Сравнение по условию <= 10: \n",
      "[[ True  True  True  True  True  True]\n",
      " [ True  True  True  True  True False]\n",
      " [ True  True  True False False False]]\n"
     ]
    }
   ],
   "source": [
    "arr1 = np.array([np.array([1,2,3,4,5,6]), np.array([1,2,3,4,5,6])*2, np.array([1,2,3,4,5,6])*3])\n",
    "print(f'Исходное представление массива: \\n{arr1}')\n",
    "print(f'Сравнение по условию >= 5: \\n{arr1 >= 5}')\n",
    "print(f'Сравнение по условию <= 10: \\n{np.less_equal(arr1, 10)}')"
   ]
  },
  {
   "cell_type": "markdown",
   "metadata": {},
   "source": [
    "Условие можно использовать в качестве среза массива, указав его в квадратных скобках к массиву. Многомерный массив при этом преобразуется в одномерный."
   ]
  },
  {
   "cell_type": "code",
   "execution_count": 99,
   "metadata": {},
   "outputs": [
    {
     "name": "stdout",
     "output_type": "stream",
     "text": [
      "Исходное представление массива: \n",
      "[[ 1  2  3  4  5  6]\n",
      " [ 2  4  6  8 10 12]\n",
      " [ 3  6  9 12 15 18]]\n",
      "Фильтрация массива по условию \"> 5\": \n",
      "[ 6  6  8 10 12  6  9 12 15 18]\n"
     ]
    }
   ],
   "source": [
    "arr1 = np.array([np.array([1,2,3,4,5,6]), np.array([1,2,3,4,5,6])*2, np.array([1,2,3,4,5,6])*3])\n",
    "print(f'Исходное представление массива: \\n{arr1}')\n",
    "print(f'Фильтрация массива по условию \"> 5\": \\n{arr1[arr1 > 5]}')"
   ]
  },
  {
   "cell_type": "markdown",
   "metadata": {},
   "source": [
    "**np.any** - принимает массив с булевыми значениями. Возвращает *True* если хотя бы одно из них *True*.\n",
    "\n",
    "**np.all** - принимает массив с булевыми значениями. Возвращает *False* если хотя бы один из них *False*.\n",
    "\n",
    "Обе функции могут применяться только по одной выбранной оси, или нескольким выбранным (задаются с помощью кортежа). "
   ]
  },
  {
   "cell_type": "code",
   "execution_count": 102,
   "metadata": {},
   "outputs": [
    {
     "name": "stdout",
     "output_type": "stream",
     "text": [
      "Исходное представление массива: \n",
      "[True, True, False, True]\n",
      "\n",
      "Применение к массиву функции np.any: True\n",
      "\n",
      "Применение к массиву функции np.all: False\n"
     ]
    }
   ],
   "source": [
    "arr = [True, True, False, True]\n",
    "print(f'Исходное представление массива: \\n{arr}')\n",
    "print(f'\\nПрименение к массиву функции np.any: {np.any(arr)}')\n",
    "print(f'\\nПрименение к массиву функции np.all: {np.all(arr)}')"
   ]
  },
  {
   "cell_type": "markdown",
   "metadata": {},
   "source": [
    "Если необходимо преобразовать массив на основе условия, при этом сохранив его структуру, можно использовать два метода.\n",
    "\n",
    "* **np.where** - преобразование значений на основе выполнения условия. "
   ]
  },
  {
   "cell_type": "code",
   "execution_count": 19,
   "metadata": {},
   "outputs": [
    {
     "name": "stdout",
     "output_type": "stream",
     "text": [
      "Исходное представление массива: \n",
      "[[ 1  2  3  4  5  6]\n",
      " [ 2  4  6  8 10 12]\n",
      " [ 3  6  9 12 15 18]]\n",
      "\n",
      "Представление массива с использованием проверки условия (больше 10) с помощью np.where: \n",
      "[[ 0  0  0  0  0  0]\n",
      " [ 0  0  0  0  0 12]\n",
      " [ 0  0  0 12 15 18]]\n"
     ]
    }
   ],
   "source": [
    "arr1 = np.array([np.array([1,2,3,4,5,6]), np.array([1,2,3,4,5,6])*2, np.array([1,2,3,4,5,6])*3])\n",
    "print(f'Исходное представление массива: \\n{arr1}')\n",
    "print(f'\\nПредставление массива с использованием проверки условия (больше 10) с помощью np.where: \\n{np.where(arr1 > 10, arr1, 0)}')"
   ]
  },
  {
   "cell_type": "markdown",
   "metadata": {},
   "source": [
    "* умножить матрицу на условие."
   ]
  },
  {
   "cell_type": "code",
   "execution_count": 18,
   "metadata": {},
   "outputs": [
    {
     "name": "stdout",
     "output_type": "stream",
     "text": [
      "Исходное представление массива: \n",
      "[[ 1  2  3  4  5  6]\n",
      " [ 2  4  6  8 10 12]\n",
      " [ 3  6  9 12 15 18]]\n",
      "\n",
      "Представление массива с использованием проверки условия (больше 10) с помощью np.where: \n",
      "[[ 0  0  0  0  0  0]\n",
      " [ 0  0  0  0  0 12]\n",
      " [ 0  0  0 12 15 18]]\n"
     ]
    }
   ],
   "source": [
    "arr1 = np.array([np.array([1,2,3,4,5,6]), np.array([1,2,3,4,5,6])*2, np.array([1,2,3,4,5,6])*3])\n",
    "print(f'Исходное представление массива: \\n{arr1}')\n",
    "print(f'\\nПредставление массива с использованием проверки условия (больше 10) с помощью np.where: \\n{arr1 * (arr1 > 10)}')"
   ]
  },
  {
   "cell_type": "markdown",
   "metadata": {},
   "source": [
    "### Операции сравнения массивов"
   ]
  },
  {
   "cell_type": "markdown",
   "metadata": {},
   "source": [
    "**np.array_equal** - проверка массивов на равенство. Принимает массивы и проверяет равенство в массивах поэлементно. "
   ]
  },
  {
   "cell_type": "code",
   "execution_count": 111,
   "metadata": {},
   "outputs": [
    {
     "name": "stdout",
     "output_type": "stream",
     "text": [
      "Исходное представление массивов arr1 и arr2: \n",
      "[[ 1  2  3  4  5  6]\n",
      " [ 2  4  6  8 10 12]\n",
      " [ 3  6  9 12 15 18]]\n",
      "\n",
      "Результат сравнения массивов arr1 и arr2: True\n",
      "Результат сравнения массивов arr1 и arr1 с дополнительной осью: False\n"
     ]
    }
   ],
   "source": [
    "arr1 = np.array([np.array([1,2,3,4,5,6]), np.array([1,2,3,4,5,6])*2, np.array([1,2,3,4,5,6])*3])\n",
    "arr2 = arr1.copy()\n",
    "\n",
    "print(f'Исходное представление массивов arr1 и arr2: \\n{arr1}')\n",
    "print(f'\\nРезультат сравнения массивов arr1 и arr2: {np.array_equal(arr1, arr2)}')\n",
    "print(f'Результат сравнения массивов arr1 и arr1 с дополнительной осью: {np.array_equal(arr1, arr1.reshape(3,6,1))}')"
   ]
  },
  {
   "cell_type": "markdown",
   "metadata": {},
   "source": [
    "**np.intersect1d** - возвращает отсортированный массив уникальных элементов, общих для двух входных массивов.\n",
    "* assume_unique: Если True, то предполагает, что входные массивы уже уникальны, что ускоряет выполнение.\n",
    "* return_indices: Если True, то также возвращает индексы элементов в каждом из входных массивов."
   ]
  },
  {
   "cell_type": "code",
   "execution_count": 23,
   "metadata": {},
   "outputs": [
    {
     "name": "stdout",
     "output_type": "stream",
     "text": [
      "Исходное представление первого массива: \n",
      "[2.  2.5 3.7 2.  5.  3.5]\n",
      "\n",
      "Исходное представление второго массива: \n",
      "[ 2.  3.  5.  2. nan  0.]\n",
      "\n",
      "Общие уникальные элементы: \n",
      "[2. 5.]\n",
      "\n",
      "Общие уникальные элементы с индексами: \n",
      "(array([2., 5.]), array([0, 4], dtype=int64), array([0, 2], dtype=int64))\n"
     ]
    }
   ],
   "source": [
    "arr1 = np.array([2, 2.5, 3.7, 2, 5, 3.5])\n",
    "arr2 = np.array([2, 3, 5, 2, np.nan, 0])\n",
    "\n",
    "print(f'Исходное представление первого массива: \\n{arr1}')\n",
    "print(f'\\nИсходное представление второго массива: \\n{arr2}')\n",
    "print(f'\\nОбщие уникальные элементы: \\n{np.intersect1d(arr1, arr2)}')\n",
    "print(f'\\nОбщие уникальные элементы с индексами: \\n{np.intersect1d(arr1, arr2, return_indices = True)}')"
   ]
  },
  {
   "cell_type": "markdown",
   "metadata": {},
   "source": [
    "**np.union1d** - возвращает отсортированный массив уникальных элементов, объединенных из двух входных массивов."
   ]
  },
  {
   "cell_type": "code",
   "execution_count": 27,
   "metadata": {},
   "outputs": [
    {
     "name": "stdout",
     "output_type": "stream",
     "text": [
      "Исходное представление первого массива: \n",
      "[2.  2.5 3.7 2.  5.  3.5]\n",
      "\n",
      "Исходное представление второго массива: \n",
      "[ 2.  3.  5.  2. nan  0.]\n",
      "\n",
      "Уникальные элементы объединённых массивов: \n",
      "[0.  2.  2.5 3.  3.5 3.7 5.  nan]\n"
     ]
    }
   ],
   "source": [
    "arr1 = np.array([2, 2.5, 3.7, 2, 5, 3.5])\n",
    "arr2 = np.array([2, 3, 5, 2, np.nan, 0])\n",
    "\n",
    "print(f'Исходное представление первого массива: \\n{arr1}')\n",
    "print(f'\\nИсходное представление второго массива: \\n{arr2}')\n",
    "print(f'\\nУникальные элементы объединённых массивов: \\n{np.union1d(arr1, arr2)}')"
   ]
  },
  {
   "cell_type": "markdown",
   "metadata": {},
   "source": [
    "**np.in1d** - принимает на вход два массива. Возвращает булев массив той же формы, что и первый, указывающий, содержатся ли элементы первого массива во втором. \n",
    "\n",
    "* invert: Если True, то инвертирует результат, то есть возвращает отсутствие элементов первого массива во втором."
   ]
  },
  {
   "cell_type": "code",
   "execution_count": 30,
   "metadata": {},
   "outputs": [
    {
     "name": "stdout",
     "output_type": "stream",
     "text": [
      "Исходное представление первого массива: \n",
      "[2.  2.5 3.7 2.  5.  3.5]\n",
      "\n",
      "Исходное представление второго массива: \n",
      "[ 2.  3.  5.  2. nan  0.]\n",
      "\n",
      "Наличие элементов 1-го массива по 2-м: \n",
      "[ True False False  True  True False]\n",
      "\n",
      "Отсутствие элементов 1-го массива по 2-м: \n",
      "[False  True  True False False  True]\n"
     ]
    }
   ],
   "source": [
    "arr1 = np.array([2, 2.5, 3.7, 2, 5, 3.5])\n",
    "arr2 = np.array([2, 3, 5, 2, np.nan, 0])\n",
    "\n",
    "print(f'Исходное представление первого массива: \\n{arr1}')\n",
    "print(f'\\nИсходное представление второго массива: \\n{arr2}')\n",
    "print(f'\\nНаличие элементов 1-го массива по 2-м: \\n{np.in1d(arr1, arr2)}')\n",
    "print(f'\\nОтсутствие элементов 1-го массива по 2-м: \\n{np.in1d(arr1, arr2, invert = True)}')"
   ]
  },
  {
   "cell_type": "markdown",
   "metadata": {},
   "source": [
    "**np.setdiff1d** - принимает на вход два массива. Возвращает уникальные элементы, которые есть в первом массиве, но отсутствуют во втором.\n",
    "\n",
    "* assume_unique: Если True, то предполагает, что входные массивы уже уникальны, что ускоряет выполнение. Также этот аргумент отменяет сортировку элементов при выводе, элементы выводятся в соответствии с порядком исходного массива."
   ]
  },
  {
   "cell_type": "code",
   "execution_count": 33,
   "metadata": {},
   "outputs": [
    {
     "name": "stdout",
     "output_type": "stream",
     "text": [
      "Исходное представление первого массива: \n",
      "[2.  2.5 3.7 2.  5.  3.5 3.5]\n",
      "\n",
      "Исходное представление второго массива: \n",
      "[ 2.  3.  5.  2. nan  0.]\n",
      "\n",
      "Уникальные элементы 1-го массива, которых нет во 2-м: \n",
      "[2.5 3.5 3.7]\n"
     ]
    }
   ],
   "source": [
    "arr1 = np.array([2, 2.5, 3.7, 2, 5, 3.5, 3.5])\n",
    "arr2 = np.array([2, 3, 5, 2, np.nan, 0])\n",
    "\n",
    "print(f'Исходное представление первого массива: \\n{arr1}')\n",
    "print(f'\\nИсходное представление второго массива: \\n{arr2}')\n",
    "print(f'\\nУникальные элементы 1-го массива, которых нет во 2-м: \\n{np.setdiff1d(arr1, arr2)}')"
   ]
  },
  {
   "cell_type": "markdown",
   "metadata": {},
   "source": [
    "**np.setxor1d** - принимает на вход два массива. Возвращает уникальные элементы, которые есть только в одном из массивов, но отсутствуют в обоих.\n",
    "\n",
    "* assume_unique: Если True, то предполагает, что входные массивы уже уникальны, что ускоряет выполнение. Также этот аргумент отменяет сортировку элементов при выводе, элементы выводятся в соответствии с порядком исходного массива."
   ]
  },
  {
   "cell_type": "code",
   "execution_count": 35,
   "metadata": {},
   "outputs": [
    {
     "name": "stdout",
     "output_type": "stream",
     "text": [
      "Исходное представление первого массива: \n",
      "[2.  2.5 3.7 2.  5.  3.5 3.5]\n",
      "\n",
      "Исходное представление второго массива: \n",
      "[ 2.  3.  5.  2. nan  0.]\n",
      "\n",
      "Уникальные элементы, которые есть только в одном из массивов: \n",
      "[0.  2.5 3.  3.5 3.7 nan]\n"
     ]
    }
   ],
   "source": [
    "arr1 = np.array([2, 2.5, 3.7, 2, 5, 3.5, 3.5])\n",
    "arr2 = np.array([2, 3, 5, 2, np.nan, 0])\n",
    "\n",
    "print(f'Исходное представление первого массива: \\n{arr1}')\n",
    "print(f'\\nИсходное представление второго массива: \\n{arr2}')\n",
    "print(f'\\nУникальные элементы, которые есть только в одном из массивов: \\n{np.setxor1d(arr1, arr2)}')"
   ]
  },
  {
   "cell_type": "markdown",
   "metadata": {},
   "source": [
    "### Логические операции\n",
    "\n",
    "**np.logical_and** - поэлементная проверка двух массивов на совокупную истинность. Возвращает массив с булевыми значениями, соответствующими результату проверки. Любое вещественное число соответствует True, кроме нуля. NaN также соответствует True. "
   ]
  },
  {
   "cell_type": "code",
   "execution_count": 9,
   "metadata": {},
   "outputs": [
    {
     "name": "stdout",
     "output_type": "stream",
     "text": [
      "Исходное представление первого массива: \n",
      "[2.  2.5 3.7 2.  5.  3.5]\n",
      "\n",
      "Исходное представление второго массива: \n",
      "[ 2.  3.  0.  2. nan  0.]\n",
      "Проверка равенства через logical_and: \n",
      " [ True  True False  True  True False]\n"
     ]
    }
   ],
   "source": [
    "arr1 = np.array([2, 2.5, 3.7, 2, 5, 3.5])\n",
    "arr2 = np.array([2, 3, 0, 2, np.nan, 0])\n",
    "\n",
    "print(f'Исходное представление первого массива: \\n{arr1}')\n",
    "print(f'\\nИсходное представление второго массива: \\n{arr2}')\n",
    "print(f'Проверка равенства через logical_and: \\n {np.logical_and(arr1, arr2)}')"
   ]
  },
  {
   "cell_type": "markdown",
   "metadata": {},
   "source": [
    "**np.logical_or** - поэлементная проверка двух массивов на истинность элемента хотя бы в одном из них. Возвращает массив с булевыми значениями, соответствующими результату проверки. Любое вещественное число соответствует True, кроме нуля. NaN также соответствует True. "
   ]
  },
  {
   "cell_type": "code",
   "execution_count": 16,
   "metadata": {},
   "outputs": [
    {
     "name": "stdout",
     "output_type": "stream",
     "text": [
      "Исходное представление первого массива: \n",
      "[2.  2.5 0.  2.  nan 3.5]\n",
      "\n",
      "Исходное представление второго массива: \n",
      "[ 2.  3.  0.  2. nan  0.]\n",
      "Проверка через logical_or: \n",
      " [ True  True False  True  True  True]\n"
     ]
    }
   ],
   "source": [
    "arr1 = np.array([2, 2.5, 0, 2, np.nan, 3.5])\n",
    "arr2 = np.array([2, 3, 0, 2, np.nan, 0])\n",
    "\n",
    "print(f'Исходное представление первого массива: \\n{arr1}')\n",
    "print(f'\\nИсходное представление второго массива: \\n{arr2}')\n",
    "print(f'Проверка через logical_or: \\n {np.logical_or(arr1, arr2)}')"
   ]
  },
  {
   "cell_type": "markdown",
   "metadata": {},
   "source": [
    "**np.logical_xor** - поэлементная проверка двух массивов на истинность элемента **только в одном из них**. Возвращает массив с булевыми значениями, соответствующими результату проверки. Любое вещественное число соответствует True, кроме нуля. NaN также соответствует True. "
   ]
  },
  {
   "cell_type": "code",
   "execution_count": 17,
   "metadata": {},
   "outputs": [
    {
     "name": "stdout",
     "output_type": "stream",
     "text": [
      "Исходное представление первого массива: \n",
      "[2.  2.5 0.  2.  nan 3.5]\n",
      "\n",
      "Исходное представление второго массива: \n",
      "[nan  3.  0.  2.  0.  0.]\n",
      "Проверка через logical_xor: \n",
      " [False False False False  True  True]\n"
     ]
    }
   ],
   "source": [
    "arr1 = np.array([2, 2.5, 0, 2, np.nan, 3.5])\n",
    "arr2 = np.array([np.nan, 3, 0, 2, 0, 0])\n",
    "\n",
    "print(f'Исходное представление первого массива: \\n{arr1}')\n",
    "print(f'\\nИсходное представление второго массива: \\n{arr2}')\n",
    "print(f'Проверка через logical_xor: \\n {np.logical_xor(arr1, arr2)}')"
   ]
  },
  {
   "cell_type": "markdown",
   "metadata": {},
   "source": [
    "**np.logical_not** - проверка элементов массива на ложность. Возвращает массив с булевыми значениями, соответствующими результату проверки. Любое вещественное число соответствует True, кроме нуля. NaN также соответствует True. "
   ]
  },
  {
   "cell_type": "code",
   "execution_count": 19,
   "metadata": {},
   "outputs": [
    {
     "name": "stdout",
     "output_type": "stream",
     "text": [
      "Исходное представление массива: \n",
      "[2.  2.5 0.  2.  nan 3.5]\n",
      "Проверка через logical_not: \n",
      " [False False  True False False False]\n"
     ]
    }
   ],
   "source": [
    "arr1 = np.array([2, 2.5, 0, 2, np.nan, 3.5])\n",
    "\n",
    "print(f'Исходное представление массива: \\n{arr1}')\n",
    "print(f'Проверка через logical_not: \\n {np.logical_not(arr1)}')"
   ]
  },
  {
   "cell_type": "markdown",
   "metadata": {},
   "source": [
    "### Операции с векторами"
   ]
  },
  {
   "cell_type": "code",
   "execution_count": 28,
   "metadata": {},
   "outputs": [
    {
     "name": "stdout",
     "output_type": "stream",
     "text": [
      "Исходный вектор vec1: \n",
      "[6 2 0 3 0 0 8 6 2 2]\n",
      "\n",
      "Исходный вектор vec2: \n",
      "[0 7 3 3 1 2 6 3 7 1]\n",
      "\n",
      "Поэлементное произведение векторов: \n",
      "[ 0 14  0  9  0  0 48 18 14  2]\n",
      "\n",
      "Скалярное произведение векторов через оператор @: 105\n",
      "\n",
      "Скалярное произведение векторов через функцию np.dot: 105\n",
      "\n",
      "Скалярное произведение векторов через функцию np.inner: 105\n",
      "\n",
      "Внешнее произведение векторов через функцию np.outer - матрица из перекрёстных произведений чисел векторов друг на друга: \n",
      "[[ 0 42 18 18  6 12 36 18 42  6]\n",
      " [ 0 14  6  6  2  4 12  6 14  2]\n",
      " [ 0  0  0  0  0  0  0  0  0  0]\n",
      " [ 0 21  9  9  3  6 18  9 21  3]\n",
      " [ 0  0  0  0  0  0  0  0  0  0]\n",
      " [ 0  0  0  0  0  0  0  0  0  0]\n",
      " [ 0 56 24 24  8 16 48 24 56  8]\n",
      " [ 0 42 18 18  6 12 36 18 42  6]\n",
      " [ 0 14  6  6  2  4 12  6 14  2]\n",
      " [ 0 14  6  6  2  4 12  6 14  2]]\n"
     ]
    }
   ],
   "source": [
    "vec1, vec2 = np.random.randint(0, 10, 10), np.random.randint(0, 10, 10)\n",
    "print(f'Исходный вектор vec1: \\n{vec1}')\n",
    "print(f'\\nИсходный вектор vec2: \\n{vec2}')\n",
    "print(f'\\nПоэлементное произведение векторов: \\n{vec1 * vec2}')\n",
    "print(f'\\nСкалярное произведение векторов через оператор @: {vec1 @ vec2}')\n",
    "print(f'\\nСкалярное произведение векторов через функцию np.dot: {np.dot(vec1,vec2)}')\n",
    "print(f'\\nСкалярное произведение векторов через функцию np.inner: {np.inner(vec1,vec2)}')\n",
    "print(f'\\nВнешнее произведение векторов через функцию np.outer - матрица из перекрёстных произведений чисел векторов друг на друга: \\n{np.outer(vec1,vec2)}')"
   ]
  },
  {
   "cell_type": "markdown",
   "metadata": {},
   "source": [
    "### Операции между матрицей и вектором\n",
    "\n",
    "В *Numpy* не различается вектор-строка и вектор-столбец. Их произведение будет одинаковым независимо от расположения друг относительно друга в операции произведения. Для произведения векторов используется функция **np.dot** или **оператор @**."
   ]
  },
  {
   "cell_type": "code",
   "execution_count": 30,
   "metadata": {},
   "outputs": [
    {
     "name": "stdout",
     "output_type": "stream",
     "text": [
      "Исходный вектор vec1: \n",
      "[[1 6 3 2 1 6 5 5 5 7]]\n",
      "\n",
      "Исходный вектор vec2: \n",
      "[[9]\n",
      " [8]\n",
      " [9]\n",
      " [9]\n",
      " [1]\n",
      " [8]\n",
      " [8]\n",
      " [8]\n",
      " [4]\n",
      " [4]]\n",
      "\n",
      "Произведение vec1 * vec2: \n",
      "[[ 9 54 27 18  9 54 45 45 45 63]\n",
      " [ 8 48 24 16  8 48 40 40 40 56]\n",
      " [ 9 54 27 18  9 54 45 45 45 63]\n",
      " [ 9 54 27 18  9 54 45 45 45 63]\n",
      " [ 1  6  3  2  1  6  5  5  5  7]\n",
      " [ 8 48 24 16  8 48 40 40 40 56]\n",
      " [ 8 48 24 16  8 48 40 40 40 56]\n",
      " [ 8 48 24 16  8 48 40 40 40 56]\n",
      " [ 4 24 12  8  4 24 20 20 20 28]\n",
      " [ 4 24 12  8  4 24 20 20 20 28]]\n",
      "\n",
      "Произведение vec2 * vec1: \n",
      "[[ 9 54 27 18  9 54 45 45 45 63]\n",
      " [ 8 48 24 16  8 48 40 40 40 56]\n",
      " [ 9 54 27 18  9 54 45 45 45 63]\n",
      " [ 9 54 27 18  9 54 45 45 45 63]\n",
      " [ 1  6  3  2  1  6  5  5  5  7]\n",
      " [ 8 48 24 16  8 48 40 40 40 56]\n",
      " [ 8 48 24 16  8 48 40 40 40 56]\n",
      " [ 8 48 24 16  8 48 40 40 40 56]\n",
      " [ 4 24 12  8  4 24 20 20 20 28]\n",
      " [ 4 24 12  8  4 24 20 20 20 28]]\n"
     ]
    }
   ],
   "source": [
    "vec1 = np.random.randint(0, 10, [1, 10])\n",
    "vec2 = np.random.randint(0, 10, [10, 1])\n",
    "\n",
    "print(f'Исходный вектор vec1: \\n{vec1}')\n",
    "print(f'\\nИсходный вектор vec2: \\n{vec2}')\n",
    "print(f'\\nПроизведение vec1 * vec2: \\n{vec1 * vec2}')\n",
    "print(f'\\nПроизведение vec2 * vec1: \\n{vec2 * vec1}')"
   ]
  },
  {
   "cell_type": "markdown",
   "metadata": {},
   "source": [
    "Произведение матриц на вектор или на другую матрицу может быть осуществлено без ошибок только с помощью специальных функций: **np.dot** , **np.matmul** или **оператора @**."
   ]
  },
  {
   "cell_type": "code",
   "execution_count": 3,
   "metadata": {},
   "outputs": [
    {
     "name": "stdout",
     "output_type": "stream",
     "text": [
      "Исходная матрица mx1: \n",
      "[[4 9 8 0 4 8 9 7 0 9]\n",
      " [4 7 3 3 3 2 9 3 7 4]]\n",
      "\n",
      "Исходная матрица mx2: \n",
      "[[0 4]\n",
      " [2 6]\n",
      " [7 0]\n",
      " [3 4]\n",
      " [2 4]\n",
      " [6 4]\n",
      " [8 2]\n",
      " [8 7]\n",
      " [2 8]\n",
      " [5 6]]\n",
      "\n",
      "Произведение mx1 * mx2 через функцию np.dot: \n",
      "[[303 239]\n",
      " [192 209]]\n",
      "\n",
      "Произведение mx2 * mx1 через функцию np.dot: \n",
      "[[ 16  28  12  12  12   8  36  12  28  16]\n",
      " [ 32  60  34  18  26  28  72  32  42  42]\n",
      " [ 28  63  56   0  28  56  63  49   0  63]\n",
      " [ 28  55  36  12  24  32  63  33  28  43]\n",
      " [ 24  46  28  12  20  24  54  26  28  34]\n",
      " [ 40  82  60  12  36  56  90  54  28  70]\n",
      " [ 40  86  70   6  38  68  90  62  14  80]\n",
      " [ 60 121  85  21  53  78 135  77  49 100]\n",
      " [ 40  74  40  24  32  32  90  38  56  50]\n",
      " [ 44  87  58  18  38  52  99  53  42  69]]\n",
      "\n",
      "Произведение mx1 * mx2 через функцию np.matmul: \n",
      "[[303 239]\n",
      " [192 209]]\n",
      "\n",
      "Произведение mx2 * mx1 через функцию np.matmul: \n",
      "[[ 16  28  12  12  12   8  36  12  28  16]\n",
      " [ 32  60  34  18  26  28  72  32  42  42]\n",
      " [ 28  63  56   0  28  56  63  49   0  63]\n",
      " [ 28  55  36  12  24  32  63  33  28  43]\n",
      " [ 24  46  28  12  20  24  54  26  28  34]\n",
      " [ 40  82  60  12  36  56  90  54  28  70]\n",
      " [ 40  86  70   6  38  68  90  62  14  80]\n",
      " [ 60 121  85  21  53  78 135  77  49 100]\n",
      " [ 40  74  40  24  32  32  90  38  56  50]\n",
      " [ 44  87  58  18  38  52  99  53  42  69]]\n"
     ]
    }
   ],
   "source": [
    "mx1 = np.random.randint(0, 10, [2, 10])\n",
    "mx2 = np.random.randint(0, 10, [10, 2])\n",
    "\n",
    "print(f'Исходная матрица mx1: \\n{mx1}')\n",
    "print(f'\\nИсходная матрица mx2: \\n{mx2}')\n",
    "print(f'\\nПроизведение mx1 * mx2 через функцию np.dot: \\n{np.dot(mx1, mx2)}')\n",
    "print(f'\\nПроизведение mx2 * mx1 через функцию np.dot: \\n{np.dot(mx2, mx1)}')\n",
    "print(f'\\nПроизведение mx1 * mx2 через функцию np.matmul: \\n{np.matmul(mx1, mx2)}')\n",
    "print(f'\\nПроизведение mx2 * mx1 через функцию np.matmul: \\n{np.matmul(mx2, mx1)}')"
   ]
  },
  {
   "cell_type": "markdown",
   "metadata": {},
   "source": [
    "**np.trace** - \"след\" матрицы, т.е. сумма всех элементов, лежащих на главной диагонали матрицы. "
   ]
  },
  {
   "cell_type": "code",
   "execution_count": 36,
   "metadata": {},
   "outputs": [
    {
     "name": "stdout",
     "output_type": "stream",
     "text": [
      "Исходная матрица mx: \n",
      "[[5 4]\n",
      " [9 5]]\n",
      "\n",
      "След матрицы: 10\n"
     ]
    }
   ],
   "source": [
    "mx = np.random.randint(0, 10, [2, 2])\n",
    "\n",
    "print(f'Исходная матрица mx: \\n{mx}')\n",
    "print(f'\\nСлед матрицы: {np.trace(mx)}')"
   ]
  },
  {
   "cell_type": "markdown",
   "metadata": {},
   "source": [
    "**np.outer** - внешнее произведение матриц (перекрёстное произведение элементов матрицы друг на друга. Порядок расположения матриц при произведении имеет значение для результата, но один результат приводится к другому также и с помощью транспонирования."
   ]
  },
  {
   "cell_type": "code",
   "execution_count": 47,
   "metadata": {},
   "outputs": [
    {
     "name": "stdout",
     "output_type": "stream",
     "text": [
      "Исходная матрица mx1: \n",
      "[[8 6]\n",
      " [4 6]]\n",
      "\n",
      "Исходная матрица mx2: \n",
      "[[3 4]\n",
      " [9 8]]\n",
      "\n",
      "Внешнее произведение mx1 * mx2: \n",
      "[[24 32 72 64]\n",
      " [18 24 54 48]\n",
      " [12 16 36 32]\n",
      " [18 24 54 48]]\n",
      "\n",
      "Внешнее произведение mx2 * mx1: \n",
      "[[24 18 12 18]\n",
      " [32 24 16 24]\n",
      " [72 54 36 54]\n",
      " [64 48 32 48]]\n"
     ]
    }
   ],
   "source": [
    "mx1 = np.random.randint(0, 10, [2, 2])\n",
    "mx2 = np.random.randint(0, 10, [2, 2])\n",
    "\n",
    "print(f'Исходная матрица mx1: \\n{mx1}')\n",
    "print(f'\\nИсходная матрица mx2: \\n{mx2}')\n",
    "print(f'\\nВнешнее произведение mx1 * mx2: \\n{np.outer(mx1, mx2)}')\n",
    "print(f'\\nВнешнее произведение mx2 * mx1: \\n{np.outer(mx2, mx1)}')"
   ]
  },
  {
   "cell_type": "markdown",
   "metadata": {},
   "source": [
    "**np.transpose** - транспонирование матрицы. "
   ]
  },
  {
   "cell_type": "code",
   "execution_count": 52,
   "metadata": {},
   "outputs": [
    {
     "name": "stdout",
     "output_type": "stream",
     "text": [
      "Исходная матрица mx: \n",
      "[[7 7]\n",
      " [2 1]]\n",
      "\n",
      "Транспонированная матрица mx: \n",
      "[[7 2]\n",
      " [7 1]]\n"
     ]
    }
   ],
   "source": [
    "mx = np.random.randint(0, 10, [2, 2])\n",
    "\n",
    "print(f'Исходная матрица mx: \\n{mx}')\n",
    "print(f'\\nТранспонированная матрица mx: \\n{np.transpose(mx)}')"
   ]
  },
  {
   "cell_type": "markdown",
   "metadata": {},
   "source": [
    "**np.array.T** - альтернативный метод транспонирования. "
   ]
  },
  {
   "cell_type": "markdown",
   "metadata": {},
   "source": [
    "**np.swapaxes** - метод для перемещения мест осей массива. Первый аргументом принимает массив, вторым (axis1) - ось, которую нужно поменять местами с axis2, третьим (axis2) - ось, которую нужно поменять местами с axis1."
   ]
  },
  {
   "cell_type": "code",
   "execution_count": 10,
   "metadata": {},
   "outputs": [
    {
     "name": "stdout",
     "output_type": "stream",
     "text": [
      "Исходная матрица mx: \n",
      "[[[4 1 1 3]\n",
      "  [7 2 0 8]\n",
      "  [2 7 2 9]]\n",
      "\n",
      " [[5 1 2 9]\n",
      "  [8 3 4 9]\n",
      "  [8 7 1 9]]]\n",
      "\n",
      "Размерность исходной матрицы: \n",
      "(2, 3, 4)\n",
      "\n",
      "Новая матрица после замены осей 1 и 2: \n",
      "[[[4 7 2]\n",
      "  [1 2 7]\n",
      "  [1 0 2]\n",
      "  [3 8 9]]\n",
      "\n",
      " [[5 8 8]\n",
      "  [1 3 7]\n",
      "  [2 4 1]\n",
      "  [9 9 9]]]\n",
      "\n",
      "Размерность матрицы после замены осей: \n",
      "(2, 4, 3)\n"
     ]
    }
   ],
   "source": [
    "mx = np.random.randint(0, 10, [2, 3, 4])\n",
    "\n",
    "print(f'Исходная матрица mx: \\n{mx}')\n",
    "print(f'\\nРазмерность исходной матрицы: \\n{mx.shape}')\n",
    "\n",
    "print(f'\\nНовая матрица после замены осей 1 и 2: \\n{np.swapaxes(mx, 1, 2)}')\n",
    "print(f'\\nРазмерность матрицы после замены осей: \\n{np.swapaxes(mx, 1, 2).shape}')"
   ]
  }
 ],
 "metadata": {
  "kernelspec": {
   "display_name": "Python 3 (ipykernel)",
   "language": "python",
   "name": "python3"
  },
  "language_info": {
   "codemirror_mode": {
    "name": "ipython",
    "version": 3
   },
   "file_extension": ".py",
   "mimetype": "text/x-python",
   "name": "python",
   "nbconvert_exporter": "python",
   "pygments_lexer": "ipython3",
   "version": "3.10.11"
  }
 },
 "nbformat": 4,
 "nbformat_minor": 4
}
